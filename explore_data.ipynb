{
 "cells": [
  {
   "cell_type": "code",
   "execution_count": 239,
   "id": "7e1e50c3",
   "metadata": {},
   "outputs": [],
   "source": [
    "from openai import OpenAI\n",
    "import json\n",
    "import re\n",
    "import numpy as np\n",
    "import pandas as pd\n",
    "import random\n",
    "from sklearn.model_selection import train_test_split\n",
    "from IPython.display import display, Markdown\n",
    "from copy import deepcopy\n",
    "from concurrent.futures import ThreadPoolExecutor, as_completed\n",
    "from tqdm import tqdm\n",
    "import seaborn as sns\n",
    "from sklearn.metrics import confusion_matrix\n",
    "from sklearn.metrics import roc_curve, roc_auc_score\n",
    "from sklearn.metrics import accuracy_score, precision_score, recall_score, f1_score\n",
    "import matplotlib.pyplot as plt\n",
    "%matplotlib inline"
   ]
  },
  {
   "cell_type": "code",
   "execution_count": 31,
   "id": "66a49d70",
   "metadata": {},
   "outputs": [],
   "source": [
    "client = OpenAI()"
   ]
  },
  {
   "cell_type": "markdown",
   "id": "e6e67f35",
   "metadata": {},
   "source": [
    "# Step 1: Explore the data\n",
    "\n",
    "Explore the data in full"
   ]
  },
  {
   "cell_type": "markdown",
   "id": "5ceeaa9c",
   "metadata": {},
   "source": [
    "## 1. Metdata csv file"
   ]
  },
  {
   "cell_type": "code",
   "execution_count": 3,
   "id": "02d4c7e7",
   "metadata": {},
   "outputs": [
    {
     "name": "stdout",
     "output_type": "stream",
     "text": [
      "                                    _id     duration            disposition  \\\n",
      "0  1558137f-4ab5-409e-8159-109c2e9358d5  3927.771375    No Pay - Bankruptcy   \n",
      "1  05c54daf-9bca-4bd7-b833-b3ba8c1e06e0   146.520000  No Pay - Cant pay now   \n",
      "2  84fb4fec-b36f-43bc-a4ef-a27ba322c146   749.635875       No Pay - Dispute   \n",
      "3  2133927a-0d11-4d54-98d6-cd21c71417f0   448.104375       No Pay - Dispute   \n",
      "4  048518c6-c17c-4524-8ff3-6a0b2735863c   108.432000       No Pay - Dispute   \n",
      "\n",
      "       type  \n",
      "0  negative  \n",
      "1  negative  \n",
      "2  negative  \n",
      "3  negative  \n",
      "4  negative  \n",
      "<class 'pandas.core.frame.DataFrame'>\n",
      "RangeIndex: 2000 entries, 0 to 1999\n",
      "Data columns (total 4 columns):\n",
      " #   Column       Non-Null Count  Dtype  \n",
      "---  ------       --------------  -----  \n",
      " 0   _id          2000 non-null   object \n",
      " 1   duration     2000 non-null   float64\n",
      " 2   disposition  2000 non-null   object \n",
      " 3   type         2000 non-null   object \n",
      "dtypes: float64(1), object(3)\n",
      "memory usage: 62.6+ KB\n",
      "None\n"
     ]
    }
   ],
   "source": [
    "df_call_metadata = pd.read_csv('/Users/sohammistri/Documents/Prodigal-Take-Home/sentiment-take-home/call_metadata.csv')\n",
    "print(df_call_metadata.head())\n",
    "print(df_call_metadata.info())"
   ]
  },
  {
   "cell_type": "code",
   "execution_count": 4,
   "id": "9debc07b",
   "metadata": {},
   "outputs": [
    {
     "name": "stdout",
     "output_type": "stream",
     "text": [
      "type\n",
      "negative    1000\n",
      "positive    1000\n",
      "Name: count, dtype: int64\n"
     ]
    }
   ],
   "source": [
    "print(df_call_metadata['type'].value_counts())"
   ]
  },
  {
   "cell_type": "code",
   "execution_count": 5,
   "id": "76e73298",
   "metadata": {},
   "outputs": [
    {
     "name": "stdout",
     "output_type": "stream",
     "text": [
      "disposition\n",
      "No Pay - Dispute                    439\n",
      "Promise - Payment in full           313\n",
      "No Pay - Not right now              296\n",
      "Promise - Payment plan              256\n",
      "No Pay - Cant pay now               182\n",
      "Promise - Settlement in full        163\n",
      "Promise - One time payment          104\n",
      "Payment Plan Modification           101\n",
      "Promise - Settlement in payments     63\n",
      "No Pay - Can't pay now               42\n",
      "No Pay - Bankruptcy                  30\n",
      "No Pay - Cancel payment plan         11\n",
      "Name: count, dtype: int64\n"
     ]
    }
   ],
   "source": [
    "print(df_call_metadata['disposition'].value_counts())"
   ]
  },
  {
   "cell_type": "code",
   "execution_count": 6,
   "id": "3a12f56f",
   "metadata": {},
   "outputs": [
    {
     "name": "stdout",
     "output_type": "stream",
     "text": [
      "type                              negative  positive\n",
      "disposition                                         \n",
      "No Pay - Bankruptcy                     30         0\n",
      "No Pay - Can't pay now                  42         0\n",
      "No Pay - Cancel payment plan            11         0\n",
      "No Pay - Cant pay now                  182         0\n",
      "No Pay - Dispute                       439         0\n",
      "No Pay - Not right now                 296         0\n",
      "Payment Plan Modification                0       101\n",
      "Promise - One time payment               0       104\n",
      "Promise - Payment in full                0       313\n",
      "Promise - Payment plan                   0       256\n",
      "Promise - Settlement in full             0       163\n",
      "Promise - Settlement in payments         0        63\n"
     ]
    }
   ],
   "source": [
    "disposition_type_counts = df_call_metadata.groupby('disposition')['type'].value_counts().unstack(fill_value=0)\n",
    "print(disposition_type_counts)"
   ]
  },
  {
   "cell_type": "code",
   "execution_count": 8,
   "id": "a27db20f",
   "metadata": {},
   "outputs": [
    {
     "name": "stdout",
     "output_type": "stream",
     "text": [
      "Positive disposition types: {'Promise - Settlement in full', 'Promise - One time payment', 'Promise - Payment plan', 'Promise - Settlement in payments', 'Promise - Payment in full', 'Payment Plan Modification'}\n",
      "Negative disposition types: {'No Pay - Not right now', 'No Pay - Cant pay now', 'No Pay - Bankruptcy', 'No Pay - Dispute', 'No Pay - Cancel payment plan', \"No Pay - Can't pay now\"}\n"
     ]
    }
   ],
   "source": [
    "positive_dispositions = set(disposition_type_counts[disposition_type_counts['positive'] > 0].index.tolist())\n",
    "negative_dispositions = set(disposition_type_counts[disposition_type_counts['negative'] > 0].index.tolist())\n",
    "\n",
    "print(\"Positive disposition types:\", positive_dispositions)\n",
    "print(\"Negative disposition types:\", negative_dispositions)"
   ]
  },
  {
   "cell_type": "code",
   "execution_count": 9,
   "id": "046788cf",
   "metadata": {},
   "outputs": [
    {
     "data": {
      "text/plain": [
       "(6, 6)"
      ]
     },
     "execution_count": 9,
     "metadata": {},
     "output_type": "execute_result"
    }
   ],
   "source": [
    "len(positive_dispositions), len(negative_dispositions)"
   ]
  },
  {
   "cell_type": "markdown",
   "id": "25bfa378",
   "metadata": {},
   "source": [
    "### Split dataset into train-val-test\n",
    "\n",
    "We do 80-10-10 train-val-test split, ensuring there is no class imbalance in either split"
   ]
  },
  {
   "cell_type": "code",
   "execution_count": 10,
   "id": "1c10097d",
   "metadata": {},
   "outputs": [
    {
     "name": "stdout",
     "output_type": "stream",
     "text": [
      "Train shape: (1600, 4), Positive: 800, Negative: 800\n",
      "Val shape: (200, 4), Positive: 100, Negative: 100\n",
      "Test shape: (200, 4), Positive: 100, Negative: 100\n"
     ]
    }
   ],
   "source": [
    "from sklearn.model_selection import train_test_split\n",
    "\n",
    "# Separate positive and negative samples\n",
    "df_positive = df_call_metadata[df_call_metadata['type'] == 'positive']\n",
    "df_negative = df_call_metadata[df_call_metadata['type'] == 'negative']\n",
    "\n",
    "# Calculate split sizes\n",
    "train_size = 0.8\n",
    "val_size = 0.1\n",
    "test_size = 0.1\n",
    "\n",
    "def split_df(df, train_size, val_size, test_size):\n",
    "    df_train, df_temp = train_test_split(df, train_size=train_size, random_state=42, shuffle=True)\n",
    "    relative_val_size = val_size / (val_size + test_size)\n",
    "    df_val, df_test = train_test_split(df_temp, train_size=relative_val_size, random_state=42, shuffle=True)\n",
    "    return df_train, df_val, df_test\n",
    "\n",
    "# Split positive and negative samples\n",
    "pos_train, pos_val, pos_test = split_df(df_positive, train_size, val_size, test_size)\n",
    "neg_train, neg_val, neg_test = split_df(df_negative, train_size, val_size, test_size)\n",
    "\n",
    "# Concatenate to get final splits with equal positive and negative samples\n",
    "train_df = pd.concat([pos_train, neg_train]).sample(frac=1, random_state=42).reset_index(drop=True)\n",
    "val_df = pd.concat([pos_val, neg_val]).sample(frac=1, random_state=42).reset_index(drop=True)\n",
    "test_df = pd.concat([pos_test, neg_test]).sample(frac=1, random_state=42).reset_index(drop=True)\n",
    "\n",
    "print(f\"Train shape: {train_df.shape}, Positive: {(train_df['type'] == 'positive').sum()}, Negative: {(train_df['type'] == 'negative').sum()}\")\n",
    "print(f\"Val shape: {val_df.shape}, Positive: {(val_df['type'] == 'positive').sum()}, Negative: {(val_df['type'] == 'negative').sum()}\")\n",
    "print(f\"Test shape: {test_df.shape}, Positive: {(test_df['type'] == 'positive').sum()}, Negative: {(test_df['type'] == 'negative').sum()}\")"
   ]
  },
  {
   "cell_type": "code",
   "execution_count": 11,
   "id": "3ecadfc5",
   "metadata": {},
   "outputs": [
    {
     "name": "stdout",
     "output_type": "stream",
     "text": [
      "<class 'pandas.core.frame.DataFrame'>\n",
      "RangeIndex: 1600 entries, 0 to 1599\n",
      "Data columns (total 4 columns):\n",
      " #   Column       Non-Null Count  Dtype  \n",
      "---  ------       --------------  -----  \n",
      " 0   _id          1600 non-null   object \n",
      " 1   duration     1600 non-null   float64\n",
      " 2   disposition  1600 non-null   object \n",
      " 3   type         1600 non-null   object \n",
      "dtypes: float64(1), object(3)\n",
      "memory usage: 50.1+ KB\n"
     ]
    }
   ],
   "source": [
    "train_df.info()"
   ]
  },
  {
   "cell_type": "code",
   "execution_count": 12,
   "id": "39a3f423",
   "metadata": {},
   "outputs": [],
   "source": [
    "train_df.to_csv('/Users/sohammistri/Documents/Prodigal-Take-Home/sentiment-take-home/train_df.csv', index=False)\n",
    "val_df.to_csv('/Users/sohammistri/Documents/Prodigal-Take-Home/sentiment-take-home/val_df.csv', index=False)\n",
    "test_df.to_csv('/Users/sohammistri/Documents/Prodigal-Take-Home/sentiment-take-home/test_df.csv', index=False)"
   ]
  },
  {
   "cell_type": "markdown",
   "id": "692e40fd",
   "metadata": {},
   "source": [
    "## 2. Conversations"
   ]
  },
  {
   "cell_type": "code",
   "execution_count": 13,
   "id": "62d7c995",
   "metadata": {},
   "outputs": [
    {
     "name": "stdout",
     "output_type": "stream",
     "text": [
      "Number of text files: 2000\n"
     ]
    }
   ],
   "source": [
    "import os\n",
    "\n",
    "conversation_folder = '/Users/sohammistri/Documents/Prodigal-Take-Home/sentiment-take-home/conversations'\n",
    "txt_files = [f for f in os.listdir(conversation_folder) if f.endswith('.txt')]\n",
    "print(f\"Number of text files: {len(txt_files)}\")"
   ]
  },
  {
   "cell_type": "code",
   "execution_count": 16,
   "id": "a3d5f944",
   "metadata": {},
   "outputs": [],
   "source": [
    "# Remove '.txt' extension from txt_files to get basenames\n",
    "txt_basenames = set([os.path.splitext(f)[0] for f in txt_files])\n",
    "\n",
    "# Get set of _id values from df_call_metadata\n",
    "df_ids = set(df_call_metadata['_id'])\n",
    "\n",
    "assert txt_basenames == df_ids"
   ]
  },
  {
   "cell_type": "code",
   "execution_count": 15,
   "id": "4b6d57ce",
   "metadata": {},
   "outputs": [],
   "source": [
    "assert df_call_metadata['_id'].is_unique, \"Not all _id values are unique in df_call_metadata\""
   ]
  },
  {
   "cell_type": "code",
   "execution_count": 22,
   "id": "8bbd9b26",
   "metadata": {},
   "outputs": [
    {
     "data": {
      "text/markdown": [
       "### 89cd6569-3d4e-4c45-84e8-c6941f8f624d.txt\n",
       "\n",
       "agent 00:06-00:16\n",
       "* * * this call is being recorded and may be monitored for quality assurance purposes and by continuing you're providing consent may i please have your first and last name\n",
       "\n",
       "borrower 00:19-00:20\n",
       "* *\n",
       "\n",
       "agent 00:21-00:24\n",
       "okay thank you and do you happen to have your agency XYZ account number\n",
       "\n",
       "borrower 00:25-00:26\n",
       "no i don't\n",
       "\n",
       "agent 00:27-00:30\n",
       "okay no worries did you receive an email text or a letter from us\n",
       "\n",
       "borrower 00:31-00:33\n",
       "email text one letter sorry\n",
       "\n",
       "agent 00:34-00:37\n",
       "okay got it let me see if i can locate your account what is the year of your birthday please the year\n",
       "\n",
       "borrower 00:39-00:41\n",
       "* * * * *\n",
       "\n",
       "agent 00:42-00:48\n",
       "okay let me see here if you received the letter let me try to search it that way what is your address to where we send that letter to\n",
       "\n",
       "borrower 00:50-00:56\n",
       "* * * * * * * * * * * * *\n",
       "\n",
       "agent 00:57-01:22\n",
       "okay thank you okay got it i do see an account so very quickly agency XYZ is a debt collection agency this is an attempt to collect debt and any information obtained will be used for that purpose alright so i do see the account with lvnv funding llc originally with via inc and it has a balance of four hundred ninety dollars and nineteen cents did you wanna pay that in full today\n",
       "\n",
       "borrower 01:24-01:32\n",
       "i already sent you a check today certified you guys will be signing to get the cashier check it's coming so you should receive it by tomorrow\n",
       "\n",
       "agent 01:33-02:07\n",
       "alright i'll go ahead and make the note on the account and as soon as we receive it we'll send you an email confirmation of the account being closed okay perfect alrighty now a couple of things just to make sure we send it to the correct email we have * your last name * * * is that a good email twelve phone mills perfect so we'll send conns confirmation there and the phone number we have on file is it * * * * * * * * * * is that also accurate\n",
       "\n",
       "borrower 01:56-01:57\n",
       "yep yep\n",
       "\n",
       "borrower 02:07-02:09\n",
       "yep yep\n",
       "\n",
       "agent 02:09-02:12\n",
       "perfect alrighty for now was there anything else i can assist you with\n",
       "\n",
       "borrower 02:14-02:14\n",
       "nope\n",
       "\n",
       "agent 02:15-02:19\n",
       "perfect alright well i do thank you for calling agency XYZ and i hope you have a great rest of your day"
      ],
      "text/plain": [
       "<IPython.core.display.Markdown object>"
      ]
     },
     "metadata": {},
     "output_type": "display_data"
    }
   ],
   "source": [
    "random_txt = random.choice(txt_files)\n",
    "txt_path = os.path.join(conversation_folder, random_txt)\n",
    "with open(txt_path, 'r') as f:\n",
    "    content = f.read()\n",
    "\n",
    "display(Markdown(f\"### {random_txt}\\n\\n{content}\"))"
   ]
  },
  {
   "cell_type": "markdown",
   "id": "9488beac",
   "metadata": {},
   "source": [
    "### Format every content better\n",
    "\n",
    "I want to create a format of the convo as `{\"borrower\": <text>, \"agent\": <text>, ...}` and save them in json files"
   ]
  },
  {
   "cell_type": "code",
   "execution_count": 27,
   "id": "faf326aa",
   "metadata": {},
   "outputs": [],
   "source": [
    "def format_conv_from_content(content):\n",
    "    lines = content.splitlines()\n",
    "    lines_fil = [line.strip() for line in lines if len(line.strip()) > 0]\n",
    "    convo = []\n",
    "    speaker = None\n",
    "    text = []\n",
    "    speaker_re = re.compile(r'^(agent|borrower)\\s+\\d{2}:\\d{2}-\\d{2}:\\d{2}$', re.IGNORECASE)\n",
    "    for line in lines_fil:\n",
    "        if speaker_re.match(line):\n",
    "            if speaker and text:\n",
    "                convo.append({\"speaker\": speaker, \"text\": \" \".join(text)})\n",
    "            speaker = line.split()[0].lower()\n",
    "            text = []\n",
    "        else:\n",
    "            text.append(line)\n",
    "    if speaker and text:\n",
    "        convo.append({\"speaker\": speaker, \"text\": \" \".join(text)})\n",
    "    return convo\n"
   ]
  },
  {
   "cell_type": "code",
   "execution_count": 29,
   "id": "f845a5a7",
   "metadata": {},
   "outputs": [],
   "source": [
    "for txt_file in txt_files:\n",
    "    txt_path = os.path.join(conversation_folder, txt_file)\n",
    "    with open(txt_path, 'r') as f:\n",
    "        content = f.read()\n",
    "    formatted = format_conv_from_content(content)\n",
    "    json_path = os.path.splitext(txt_path)[0] + '.json'\n",
    "    with open(json_path, 'w') as jf:\n",
    "        json.dump(formatted, jf, indent=2)"
   ]
  },
  {
   "cell_type": "markdown",
   "id": "668ded49",
   "metadata": {},
   "source": [
    "# Step 2: Identify Potential PII\n",
    "\n",
    "For each conversation, flag potential PII in the call logs. Mostly looked clean, but imp to do a sanity check on a sample"
   ]
  },
  {
   "cell_type": "code",
   "execution_count": 61,
   "id": "c89aee09",
   "metadata": {},
   "outputs": [],
   "source": [
    "pii_filter_prompt = \"\"\"\n",
    "# Context:\n",
    "\"You are an AI assistant tasked with identifying and flagging customer Personally Identifiable Information (PII) within a given text. Your role is to act as a data protection filter.\n",
    "\n",
    "You will be given a conversation between an AI agent and a customer as input. Here is how you should operate:\n",
    "1.  Analyze the following conversation content provided between an AI agent and a customer.\n",
    "2.  Your primary objective is to determine if any customer PII is present in the text. PII includes, but is not limited to:\n",
    "    *   Names (full names, first names, last names)\n",
    "    *   Email addresses\n",
    "    *   Phone numbers\n",
    "    *   Physical addresses (street, city, state, zip code)\n",
    "    *   Social Security numbers or other government-issued identification numbers\n",
    "    *   Credit card numbers or financial account information\n",
    "    *   Dates of birth\n",
    "    *   Login credentials (usernames, passwords)\n",
    "    *   Medical information\n",
    "    *   IP addresses or other unique device identifiers\n",
    "3. Crucially, you must **ignore any data that has been masked**. Masked data is information that has been partially or fully obscured. Common examples of masking techniques to ignore include:\n",
    "    - Redaction/Masking Out: Replacing parts of the data with characters like 'X', '*', or '#'. For instance, XXX-XX-1234 or john.doe@******.com.\n",
    "    - Substitution/Replacement: Replacing sensitive data with fictitious yet realistic-looking data. For example, a real name might be replaced with a randomly generated one.\n",
    "    - Tokenization/Encryption: Replacing data with a non-sensitive placeholder or an encrypted string.\n",
    "    - Nulling Out: Replacing sensitive information with null values or blanks.\n",
    "4. **Ignore Agent Names**: You must differentiate between the agent and the customer and ignore the agent's name. The agent's name may be stated explicitly (e.g., \"My name is Alex,\" \"This is SupportBot,\" or \"You're speaking with Sarah.\"). Your focus is exclusively on identifying the **customer's PII**.\n",
    "5.  After your analysis, you will provide a binary output:\n",
    "    *   Return **1** if you identify any potential PII in the conversation that is unmasked.\n",
    "    *   Return **0** if you do not find any PII in the conversation or **all** potential PII is masked out\n",
    "\n",
    "# Output Format:\n",
    "- Analysis of the conversation: <Detailed analysis of the conversation between the AI agent and customer wrt finding potential PII>\n",
    "- Identified PII: <List of potential customer PII data identified in the conversation. Return None if the input is customer PII free>\n",
    "- Score: <0 if there is no customer PII in the conversation or all customer PII is masked, 1 otherwise>\n",
    "\n",
    "IMPORTANT: Remember to always adhere to this output format for consistency\n",
    "\n",
    "# Input\n",
    "Input Content: {conv} \n",
    "\n",
    "# Output\n",
    "\"\"\""
   ]
  },
  {
   "cell_type": "code",
   "execution_count": 63,
   "id": "8cd5ae1e",
   "metadata": {},
   "outputs": [
    {
     "data": {
      "text/markdown": [
       "- Analysis of the conversation:  \n",
       "Upon reviewing the conversation, I analyzed all exchanges between the agent and the borrower (customer). All possible PII fields such as names (\"miss *\", etc.), email addresses, and other sensitive data were indicated with masking (\"*,\" \"* *,\" etc.) and are therefore not to be considered as actual unmasked PII under the provided guidelines. Additionally, a statement regarding the customer's health status (\"i'm going through cancer right now i i'm i'm in radiation\") is mentioned, which is medical information and constitutes PII; however, it is not masked and thus counts as unmasked PII. No unmasked names, contact details, or financial/account information are present—the rest is either masked or relates to public company/agent information.\n",
       "\n",
       "- Identified PII: \n",
       "    - Medical information: The customer discloses undergoing cancer treatment and radiation (\"i'm going through cancer right now i i'm i'm in radiation i just got a radiation\").\n",
       "\n",
       "- Score: 1"
      ],
      "text/plain": [
       "<IPython.core.display.Markdown object>"
      ]
     },
     "metadata": {},
     "output_type": "display_data"
    }
   ],
   "source": [
    "p = deepcopy(pii_filter_prompt)\n",
    "random_txt = random.choice(txt_files)\n",
    "txt_path = os.path.join(conversation_folder, random_txt)\n",
    "txt_path = '/Users/sohammistri/Documents/Prodigal-Take-Home/sentiment-take-home/conversations/f8832c53-8b6c-4f73-bcce-b06c4f89b0f3.txt'\n",
    "with open(txt_path, 'r') as f:\n",
    "    content = f.read()\n",
    "\n",
    "p = p.format(conv=content)\n",
    "response = client.responses.create(\n",
    "    model=\"gpt-4.1\",\n",
    "    input=p\n",
    ")\n",
    "\n",
    "display(Markdown(response.output_text))\n"
   ]
  },
  {
   "cell_type": "code",
   "execution_count": 65,
   "id": "9827dee7",
   "metadata": {},
   "outputs": [],
   "source": [
    "def extract_sections(text):\n",
    "    analysis = None\n",
    "    pii = None\n",
    "    score = None\n",
    "\n",
    "    analysis_match = re.search(r'- Analysis of the conversation:\\s*(.*?)(?:- Identified PII:|$)', text, re.DOTALL)\n",
    "    pii_match = re.search(r'- Identified PII:\\s*(.*?)(?:- Score:|$)', text, re.DOTALL)\n",
    "    score_match = re.search(r'- Score:\\s*(\\d+)', text)\n",
    "\n",
    "    if analysis_match:\n",
    "        analysis = analysis_match.group(1).strip()\n",
    "    if pii_match:\n",
    "        pii = pii_match.group(1).strip()\n",
    "    if score_match:\n",
    "        score = int(score_match.group(1).strip())\n",
    "\n",
    "    return analysis, pii, score\n",
    "\n",
    "def get_pii_score(prompt, file_path):\n",
    "    with open(file_path, 'r') as f:\n",
    "        content = f.read()\n",
    "\n",
    "    try:\n",
    "        p = deepcopy(prompt)\n",
    "        p = p.format(conv=content)\n",
    "        response = client.responses.create(\n",
    "            model=\"gpt-4.1\",\n",
    "            input=p\n",
    "        )\n",
    "        response_out = response.output_text\n",
    "        analysis, pii, score = extract_sections(response_out)\n",
    "        result = {\n",
    "            \"file\": file_path,\n",
    "            \"analysis\": analysis,\n",
    "            \"pii\": pii,\n",
    "            \"score\": score\n",
    "        }\n",
    "        return result\n",
    "    except Exception as e:\n",
    "        print(e)\n",
    "        return None"
   ]
  },
  {
   "cell_type": "code",
   "execution_count": 66,
   "id": "47ad30c1",
   "metadata": {},
   "outputs": [
    {
     "data": {
      "text/plain": [
       "2000"
      ]
     },
     "execution_count": 66,
     "metadata": {},
     "output_type": "execute_result"
    }
   ],
   "source": [
    "txt_paths = [os.path.join(conversation_folder, fname) for fname in txt_files]\n",
    "len(txt_paths)"
   ]
  },
  {
   "cell_type": "code",
   "execution_count": 67,
   "id": "df09a735",
   "metadata": {},
   "outputs": [
    {
     "name": "stderr",
     "output_type": "stream",
     "text": [
      "Processing Files: 100%|██████████| 2000/2000 [09:12<00:00,  3.62it/s]\n"
     ]
    }
   ],
   "source": [
    "results = []\n",
    "\n",
    "with ThreadPoolExecutor(max_workers=10) as executor:\n",
    "    futures = [executor.submit(get_pii_score, pii_filter_prompt, file_path) for file_path in txt_paths]\n",
    "    for future in tqdm(as_completed(futures), total=len(futures), desc=\"Processing Files\"):\n",
    "        results.append(future.result())"
   ]
  },
  {
   "cell_type": "code",
   "execution_count": 68,
   "id": "7c1ff4aa",
   "metadata": {},
   "outputs": [],
   "source": [
    "results_fil = [res for res in results if res is not None]\n",
    "results_df = pd.DataFrame(results_fil)"
   ]
  },
  {
   "cell_type": "code",
   "execution_count": 69,
   "id": "d75234a6",
   "metadata": {},
   "outputs": [
    {
     "name": "stdout",
     "output_type": "stream",
     "text": [
      "score\n",
      "0    1894\n",
      "1     106\n",
      "Name: count, dtype: int64\n"
     ]
    }
   ],
   "source": [
    "print(results_df['score'].value_counts())"
   ]
  },
  {
   "cell_type": "code",
   "execution_count": 85,
   "id": "84bee5e8",
   "metadata": {},
   "outputs": [
    {
     "data": {
      "text/plain": [
       "56"
      ]
     },
     "execution_count": 85,
     "metadata": {},
     "output_type": "execute_result"
    }
   ],
   "source": [
    "i = random.randint(0, len(results_df[results_df['score'] == 1]))\n",
    "i"
   ]
  },
  {
   "cell_type": "code",
   "execution_count": 86,
   "id": "0308ed3f",
   "metadata": {},
   "outputs": [
    {
     "data": {
      "text/markdown": [
       "1. Customer first name: \"natalie\"\n",
       "2. Unmasked customer account number: \"four seven dash zero zero dash two seven one nine dash three one nine two zero\" (47-00-2719-31920)"
      ],
      "text/plain": [
       "<IPython.core.display.Markdown object>"
      ]
     },
     "metadata": {},
     "output_type": "display_data"
    }
   ],
   "source": [
    "display(Markdown(results_df[results_df['score'] == 1].iloc[i][\"pii\"]))"
   ]
  },
  {
   "cell_type": "markdown",
   "id": "7af30a33",
   "metadata": {},
   "source": [
    "## Conclusion:\n",
    "- Most of the PII is masked in this conversation\n",
    "- Some PII is missed is mostly single names, diseases or when emails/phone no.s are spelled out. eg: \"our seven dash zero zero dash two seven one nine dash three one nine two zero\" spelled out\n",
    "- Rule based PII failed but stronger LLM based filtering was able to catch it."
   ]
  },
  {
   "cell_type": "markdown",
   "id": "eca8d145",
   "metadata": {},
   "source": [
    "# 3. Get Zero Shot Prompting Results\n",
    "\n",
    "Lets prompt some basic OpenAI LLMs and get the scores of agent and borrower sentiment"
   ]
  },
  {
   "cell_type": "markdown",
   "id": "9e414c54",
   "metadata": {},
   "source": [
    "## Metrics:\n",
    "- Text files Zero Shot: \n",
    "    - Optimal threshold: 0.64\n",
    "    - Accuracy: 0.7526\n",
    "    - Precision: 0.7316\n",
    "    - Recall: 0.7984\n",
    "    - F1 Score: 0.7635\n",
    "- Json files Zero Shot:\n",
    "    - Optimal threshold: 0.61\n",
    "    - Accuracy: 0.7481\n",
    "    - Precision: 0.7143\n",
    "    - Recall: 0.8258\n",
    "    - F1 Score: 0.7660"
   ]
  },
  {
   "cell_type": "code",
   "execution_count": 163,
   "id": "851d0e60",
   "metadata": {},
   "outputs": [],
   "source": [
    "sentiment_zero_shot_prompt = \"\"\"\n",
    "# INSTRUCTIONS:\n",
    "\n",
    "You are an expert in sentiment analysis. Your task is to analyze the following conversation between an \"Agent\" (AI) and a \"Borrower\" (human). After your analysis, you will provide two overall sentiment scores: one for the Agent and one for the Borrower. \n",
    "\n",
    "The sentiment scores should be on a scale from 0 to 1, where **0 represents the most negative sentiment** and **1 represents the most positive sentiment**. \n",
    "\n",
    "**Follow these steps for your analysis:** \n",
    "\n",
    "1.  **Read the entire conversation carefully** to understand the context and the emotional tone of both the Agent and the Borrower. \n",
    "2.  **Identify key phrases and sentences** that indicate the sentiment of each participant. Consider the choice of words, the tone, and any emotional cues. \n",
    "3.  **Analyze the sentiment of the Agent** throughout the conversation. Note any shifts in tone, from professional and helpful to apologetic or firm. \n",
    "4.  **Analyze the sentiment of the Borrower** throughout the conversation. Note any expressions of frustration, satisfaction, confusion, or gratitude. \n",
    "5.  **Determine an overall sentiment score for the Agent** based on your analysis. This score should reflect the Agent's dominant sentiment throughout the entire interaction. \n",
    "6.  **Determine an overall sentiment score for the Borrower** based on your analysis. This score should reflect the Borrower's dominant sentiment throughout the entire interaction. \n",
    "7.  **Provide a brief justification** for each score, referencing specific parts of the conversation.  \n",
    "\n",
    "# Output Format:\n",
    "Provide your analysis in the following JSON format. Do not include any text or explanations outside of the JSON structure.\n",
    "```\n",
    "{ \n",
    "  \"conversation_analysis\": { \n",
    "    \"agent_sentiment\": { \n",
    "      \"analysis\": <detailed analysis of the agent sentiment based on the input conversation to help determine a sentiment score>\n",
    "      \"score\": <a score between 0-1 indicating the agent sentiment, 0 being the most negative and 1 being the most positive>, \n",
    "    }, \n",
    "    \"borrower_sentiment\": { \n",
    "      \"analysis\": <detailed analysis of the borrower sentiment based on the input conversation to help determine a sentiment score>\n",
    "      \"score\": <a score between 0-1 indicating the borrower sentiment, 0 being the most negative and 1 being the most positive>,\n",
    "    } \n",
    "  } \n",
    "} \n",
    "```\n",
    "\n",
    "**IMPORTANT**: Follow this output format strictly without extra formatting to ensure consistency\n",
    "\n",
    "# Input:\n",
    "Conversation: @conv@\n",
    "\"\"\""
   ]
  },
  {
   "cell_type": "code",
   "execution_count": 224,
   "id": "c5bbaba3",
   "metadata": {},
   "outputs": [],
   "source": [
    "def get_sentiment_scores(prompt, file_path):\n",
    "    try:\n",
    "        id = os.path.basename(file_path).split(\".\")[0]\n",
    "        ext = os.path.basename(file_path).split(\".\")[-1]\n",
    "\n",
    "        if ext == \"txt\":\n",
    "            with open(file_path, \"r\") as f:\n",
    "                content = f.read()\n",
    "        elif ext ==\"json\":\n",
    "            with open(file_path, 'r') as f:\n",
    "                content = json.load(f)\n",
    "                content = str(content)\n",
    "            \n",
    "        p = deepcopy(prompt)\n",
    "        p = p.replace(\"@conv@\", content)\n",
    "        response = client.responses.create(\n",
    "            model=\"gpt-4.1\",\n",
    "            input=p\n",
    "        )\n",
    "        response_out = response.output_text\n",
    "\n",
    "        # display(Markdown(response_out))\n",
    "\n",
    "        result = json.loads(response_out.strip(\"```\").strip(\"json\"))\n",
    "\n",
    "        return_val = {\n",
    "            \"_id\": id,\n",
    "            \"agent_analysis\": result[\"conversation_analysis\"][\"agent_sentiment\"][\"analysis\"],\n",
    "            \"agent_score\": float(result[\"conversation_analysis\"][\"agent_sentiment\"][\"score\"]),\n",
    "            \"borrower_analysis\": result[\"conversation_analysis\"][\"borrower_sentiment\"][\"analysis\"],\n",
    "            \"borrower_score\": float(result[\"conversation_analysis\"][\"borrower_sentiment\"][\"score\"]),\n",
    "        }\n",
    "        return return_val\n",
    "    \n",
    "    except Exception as e:\n",
    "        print(e)\n",
    "        return None"
   ]
  },
  {
   "cell_type": "markdown",
   "id": "a18cf5dd",
   "metadata": {},
   "source": [
    "## Taking raw txt files"
   ]
  },
  {
   "cell_type": "code",
   "execution_count": 206,
   "id": "a4bb2f5c",
   "metadata": {},
   "outputs": [
    {
     "name": "stderr",
     "output_type": "stream",
     "text": [
      "Processing Files:   4%|▍         | 78/2000 [00:43<12:22,  2.59it/s] "
     ]
    },
    {
     "name": "stdout",
     "output_type": "stream",
     "text": [
      "Expecting ',' delimiter: line 6 column 7 (char 788)\n"
     ]
    },
    {
     "name": "stderr",
     "output_type": "stream",
     "text": [
      "Processing Files:  25%|██▌       | 506/2000 [04:30<08:11,  3.04it/s]"
     ]
    },
    {
     "name": "stdout",
     "output_type": "stream",
     "text": [
      "Extra data: line 14 column 1 (char 1798)\n"
     ]
    },
    {
     "name": "stderr",
     "output_type": "stream",
     "text": [
      "Processing Files:  52%|█████▏    | 1032/2000 [09:03<06:07,  2.64it/s]"
     ]
    },
    {
     "name": "stdout",
     "output_type": "stream",
     "text": [
      "Invalid control character at: line 9 column 936 (char 1780)\n"
     ]
    },
    {
     "name": "stderr",
     "output_type": "stream",
     "text": [
      "Processing Files:  65%|██████▌   | 1305/2000 [11:29<05:19,  2.18it/s]"
     ]
    },
    {
     "name": "stdout",
     "output_type": "stream",
     "text": [
      "Expecting ',' delimiter: line 4 column 202 (char 257)\n"
     ]
    },
    {
     "name": "stderr",
     "output_type": "stream",
     "text": [
      "Processing Files:  84%|████████▍ | 1678/2000 [14:40<02:55,  1.84it/s]"
     ]
    },
    {
     "name": "stdout",
     "output_type": "stream",
     "text": [
      "Expecting ',' delimiter: line 5 column 374 (char 433)\n"
     ]
    },
    {
     "name": "stderr",
     "output_type": "stream",
     "text": [
      "Processing Files:  86%|████████▋ | 1726/2000 [15:03<01:42,  2.67it/s]"
     ]
    },
    {
     "name": "stdout",
     "output_type": "stream",
     "text": [
      "Expecting value: line 1 column 1 (char 0)\n"
     ]
    },
    {
     "name": "stderr",
     "output_type": "stream",
     "text": [
      "Processing Files:  91%|█████████▏| 1825/2000 [15:55<01:19,  2.19it/s]"
     ]
    },
    {
     "name": "stdout",
     "output_type": "stream",
     "text": [
      "Expecting ',' delimiter: line 5 column 191 (char 250)\n"
     ]
    },
    {
     "name": "stderr",
     "output_type": "stream",
     "text": [
      "Processing Files: 100%|██████████| 2000/2000 [17:35<00:00,  1.89it/s]\n"
     ]
    }
   ],
   "source": [
    "results_txt = []\n",
    "\n",
    "with ThreadPoolExecutor(max_workers=10) as executor:\n",
    "    futures = [executor.submit(get_sentiment_scores, sentiment_zero_shot_prompt, file_path) for file_path in txt_paths]\n",
    "    for future in tqdm(as_completed(futures), total=len(futures), desc=\"Processing Files\"):\n",
    "        results_txt.append(future.result())"
   ]
  },
  {
   "cell_type": "code",
   "execution_count": 207,
   "id": "02955f8c",
   "metadata": {},
   "outputs": [
    {
     "name": "stdout",
     "output_type": "stream",
     "text": [
      "<class 'pandas.core.frame.DataFrame'>\n",
      "RangeIndex: 1993 entries, 0 to 1992\n",
      "Data columns (total 5 columns):\n",
      " #   Column             Non-Null Count  Dtype  \n",
      "---  ------             --------------  -----  \n",
      " 0   _id                1993 non-null   object \n",
      " 1   agent_analysis     1993 non-null   object \n",
      " 2   agent_score        1993 non-null   float64\n",
      " 3   borrower_analysis  1993 non-null   object \n",
      " 4   borrower_score     1993 non-null   float64\n",
      "dtypes: float64(2), object(3)\n",
      "memory usage: 78.0+ KB\n"
     ]
    }
   ],
   "source": [
    "results_txt_fil = [res for res in results_txt if res is not None]\n",
    "results_txt_df = pd.DataFrame(results_txt_fil)\n",
    "results_txt_df.info()"
   ]
  },
  {
   "cell_type": "code",
   "execution_count": 219,
   "id": "8f7fd185",
   "metadata": {},
   "outputs": [],
   "source": [
    "results_txt_df.to_csv('/Users/sohammistri/Documents/Prodigal-Take-Home/sentiment-take-home/gpt_41_txt_file_zero_shot.csv', index=False)"
   ]
  },
  {
   "cell_type": "code",
   "execution_count": 208,
   "id": "f2fd4d48",
   "metadata": {},
   "outputs": [
    {
     "data": {
      "text/html": [
       "<div>\n",
       "<style scoped>\n",
       "    .dataframe tbody tr th:only-of-type {\n",
       "        vertical-align: middle;\n",
       "    }\n",
       "\n",
       "    .dataframe tbody tr th {\n",
       "        vertical-align: top;\n",
       "    }\n",
       "\n",
       "    .dataframe thead th {\n",
       "        text-align: right;\n",
       "    }\n",
       "</style>\n",
       "<table border=\"1\" class=\"dataframe\">\n",
       "  <thead>\n",
       "    <tr style=\"text-align: right;\">\n",
       "      <th></th>\n",
       "      <th>_id</th>\n",
       "      <th>duration</th>\n",
       "      <th>disposition</th>\n",
       "      <th>type</th>\n",
       "      <th>agent_analysis</th>\n",
       "      <th>agent_score</th>\n",
       "      <th>borrower_analysis</th>\n",
       "      <th>borrower_score</th>\n",
       "    </tr>\n",
       "  </thead>\n",
       "  <tbody>\n",
       "    <tr>\n",
       "      <th>0</th>\n",
       "      <td>1558137f-4ab5-409e-8159-109c2e9358d5</td>\n",
       "      <td>3927.771375</td>\n",
       "      <td>No Pay - Bankruptcy</td>\n",
       "      <td>negative</td>\n",
       "      <td>The Agent maintains a professional, helpful, a...</td>\n",
       "      <td>0.97</td>\n",
       "      <td>The Borrower initially expresses a neutral and...</td>\n",
       "      <td>0.85</td>\n",
       "    </tr>\n",
       "    <tr>\n",
       "      <th>1</th>\n",
       "      <td>05c54daf-9bca-4bd7-b833-b3ba8c1e06e0</td>\n",
       "      <td>146.520000</td>\n",
       "      <td>No Pay - Cant pay now</td>\n",
       "      <td>negative</td>\n",
       "      <td>The Agent maintains a consistently professiona...</td>\n",
       "      <td>0.92</td>\n",
       "      <td>The Borrower’s responses are brief and mostly ...</td>\n",
       "      <td>0.42</td>\n",
       "    </tr>\n",
       "    <tr>\n",
       "      <th>2</th>\n",
       "      <td>84fb4fec-b36f-43bc-a4ef-a27ba322c146</td>\n",
       "      <td>749.635875</td>\n",
       "      <td>No Pay - Dispute</td>\n",
       "      <td>negative</td>\n",
       "      <td>The agent maintains a professional and helpful...</td>\n",
       "      <td>0.92</td>\n",
       "      <td>The borrower expresses confusion, frustration,...</td>\n",
       "      <td>0.32</td>\n",
       "    </tr>\n",
       "    <tr>\n",
       "      <th>3</th>\n",
       "      <td>2133927a-0d11-4d54-98d6-cd21c71417f0</td>\n",
       "      <td>448.104375</td>\n",
       "      <td>No Pay - Dispute</td>\n",
       "      <td>negative</td>\n",
       "      <td>The Agent maintains a consistently professiona...</td>\n",
       "      <td>0.95</td>\n",
       "      <td>The Borrower starts off neutral but quickly ex...</td>\n",
       "      <td>0.55</td>\n",
       "    </tr>\n",
       "    <tr>\n",
       "      <th>4</th>\n",
       "      <td>048518c6-c17c-4524-8ff3-6a0b2735863c</td>\n",
       "      <td>108.432000</td>\n",
       "      <td>No Pay - Dispute</td>\n",
       "      <td>negative</td>\n",
       "      <td>The Agent (Laura Loretta) maintains a consiste...</td>\n",
       "      <td>0.75</td>\n",
       "      <td>The Borrower displays confusion, mild frustrat...</td>\n",
       "      <td>0.30</td>\n",
       "    </tr>\n",
       "  </tbody>\n",
       "</table>\n",
       "</div>"
      ],
      "text/plain": [
       "                                    _id     duration            disposition  \\\n",
       "0  1558137f-4ab5-409e-8159-109c2e9358d5  3927.771375    No Pay - Bankruptcy   \n",
       "1  05c54daf-9bca-4bd7-b833-b3ba8c1e06e0   146.520000  No Pay - Cant pay now   \n",
       "2  84fb4fec-b36f-43bc-a4ef-a27ba322c146   749.635875       No Pay - Dispute   \n",
       "3  2133927a-0d11-4d54-98d6-cd21c71417f0   448.104375       No Pay - Dispute   \n",
       "4  048518c6-c17c-4524-8ff3-6a0b2735863c   108.432000       No Pay - Dispute   \n",
       "\n",
       "       type                                     agent_analysis  agent_score  \\\n",
       "0  negative  The Agent maintains a professional, helpful, a...         0.97   \n",
       "1  negative  The Agent maintains a consistently professiona...         0.92   \n",
       "2  negative  The agent maintains a professional and helpful...         0.92   \n",
       "3  negative  The Agent maintains a consistently professiona...         0.95   \n",
       "4  negative  The Agent (Laura Loretta) maintains a consiste...         0.75   \n",
       "\n",
       "                                   borrower_analysis  borrower_score  \n",
       "0  The Borrower initially expresses a neutral and...            0.85  \n",
       "1  The Borrower’s responses are brief and mostly ...            0.42  \n",
       "2  The borrower expresses confusion, frustration,...            0.32  \n",
       "3  The Borrower starts off neutral but quickly ex...            0.55  \n",
       "4  The Borrower displays confusion, mild frustrat...            0.30  "
      ]
     },
     "execution_count": 208,
     "metadata": {},
     "output_type": "execute_result"
    }
   ],
   "source": [
    "merged_df = df_call_metadata.merge(results_txt_df, on=\"_id\", how=\"inner\")\n",
    "merged_df.head()"
   ]
  },
  {
   "cell_type": "code",
   "execution_count": 209,
   "id": "b5e6f857",
   "metadata": {},
   "outputs": [],
   "source": [
    "merged_df['ground_truth_sentiment'] = (merged_df['type'] == 'positive').astype(int)"
   ]
  },
  {
   "cell_type": "code",
   "execution_count": 210,
   "id": "21c27962",
   "metadata": {},
   "outputs": [
    {
     "name": "stdout",
     "output_type": "stream",
     "text": [
      "Correlation (ground_truth_sentiment, agent_score): 0.3390\n",
      "Correlation (ground_truth_sentiment, borrower_score): 0.5352\n"
     ]
    }
   ],
   "source": [
    "# Calculate correlation coefficients between ground_truth_sentiment and agent_score, borrower_score\n",
    "corr_agent = merged_df['ground_truth_sentiment'].corr(merged_df['agent_score'])\n",
    "corr_borrower = merged_df['ground_truth_sentiment'].corr(merged_df['borrower_score'])\n",
    "\n",
    "print(f\"Correlation (ground_truth_sentiment, agent_score): {corr_agent:.4f}\")\n",
    "print(f\"Correlation (ground_truth_sentiment, borrower_score): {corr_borrower:.4f}\")"
   ]
  },
  {
   "cell_type": "code",
   "execution_count": 211,
   "id": "563cb29f",
   "metadata": {},
   "outputs": [
    {
     "name": "stdout",
     "output_type": "stream",
     "text": [
      "         agent_score                                                    \\\n",
      "               count      mean       std   min   25%   50%   75%   max   \n",
      "type                                                                     \n",
      "negative       996.0  0.890171  0.088632  0.50  0.85  0.92  0.95  0.98   \n",
      "positive       997.0  0.940762  0.044881  0.65  0.93  0.95  0.97  1.00   \n",
      "\n",
      "         borrower_score                                                   \n",
      "                  count      mean       std   min   25%  50%   75%   max  \n",
      "type                                                                      \n",
      "negative          996.0  0.509970  0.170384  0.10  0.38  0.5  0.65  0.95  \n",
      "positive          997.0  0.699308  0.125156  0.28  0.65  0.7  0.78  0.95  \n"
     ]
    },
    {
     "data": {
      "image/png": "[encoded data removed]",
      "text/plain": [
       "<Figure size 1200x500 with 2 Axes>"
      ]
     },
     "metadata": {},
     "output_type": "display_data"
    },
    {
     "data": {
      "text/plain": [
       "<Figure size 1000x500 with 0 Axes>"
      ]
     },
     "metadata": {},
     "output_type": "display_data"
    },
    {
     "data": {
      "image/png": "[encoded data removed]",
      "text/plain": [
       "<Figure size 640x480 with 2 Axes>"
      ]
     },
     "metadata": {},
     "output_type": "display_data"
    }
   ],
   "source": [
    "# Group by 'type' and describe agent_score and borrower_score\n",
    "stats = merged_df.groupby('type')[['agent_score', 'borrower_score']].describe()\n",
    "print(stats)\n",
    "\n",
    "# Plot distributions\n",
    "fig, axes = plt.subplots(1, 2, figsize=(12, 5))\n",
    "\n",
    "for i, score_type in enumerate(['agent_score', 'borrower_score']):\n",
    "    for sentiment_type in ['positive', 'negative']:\n",
    "        subset = merged_df[merged_df['type'] == sentiment_type][score_type]\n",
    "        axes[i].hist(subset, bins=20, alpha=0.6, label=sentiment_type)\n",
    "    axes[i].set_title(f'Distribution of {score_type}')\n",
    "    axes[i].set_xlabel('Score')\n",
    "    axes[i].set_ylabel('Count')\n",
    "    axes[i].legend()\n",
    "\n",
    "plt.tight_layout()\n",
    "plt.show()\n",
    "\n",
    "# Boxplots for visual comparison\n",
    "plt.figure(figsize=(10, 5))\n",
    "merged_df.boxplot(column=['agent_score', 'borrower_score'], by='type')\n",
    "plt.suptitle('')\n",
    "plt.title('Agent and Borrower Score by Type')\n",
    "plt.xlabel('Type')\n",
    "plt.ylabel('Score')\n",
    "plt.show()\n"
   ]
  },
  {
   "cell_type": "code",
   "execution_count": 213,
   "id": "260b4bf3",
   "metadata": {},
   "outputs": [
    {
     "data": {
      "image/png": "[encoded data removed]",
      "text/plain": [
       "<Figure size 800x600 with 1 Axes>"
      ]
     },
     "metadata": {},
     "output_type": "display_data"
    },
    {
     "name": "stdout",
     "output_type": "stream",
     "text": [
      "Optimal threshold: 0.64\n",
      "ROC-AUC: 0.81\n"
     ]
    }
   ],
   "source": [
    "from sklearn.metrics import roc_curve, roc_auc_score\n",
    "\n",
    "# Prepare true labels and predicted scores from merged_df\n",
    "y_true = merged_df['ground_truth_sentiment']\n",
    "y_scores = merged_df['borrower_score']\n",
    "\n",
    "# Compute ROC curve and ROC-AUC\n",
    "fpr, tpr, thresholds = roc_curve(y_true, y_scores)\n",
    "roc_auc = roc_auc_score(y_true, y_scores)\n",
    "\n",
    "# Find optimal threshold (maximizing TPR - FPR)\n",
    "optimal_idx = np.argmax(tpr - fpr)\n",
    "optimal_threshold = thresholds[optimal_idx]\n",
    "\n",
    "plt.figure(figsize=(8, 6))\n",
    "plt.plot(fpr, tpr, label=f'ROC curve (AUC = {roc_auc:.2f})')\n",
    "plt.scatter(fpr[optimal_idx], tpr[optimal_idx], color='red', label=f'Optimal threshold = {optimal_threshold:.2f}')\n",
    "plt.plot([0, 1], [0, 1], 'k--', label='Random')\n",
    "plt.xlabel('False Positive Rate')\n",
    "plt.ylabel('True Positive Rate')\n",
    "plt.title('ROC Curve for Borrower Sentiment Score')\n",
    "plt.legend()\n",
    "plt.show()\n",
    "\n",
    "print(f\"Optimal threshold: {optimal_threshold:.2f}\")\n",
    "print(f\"ROC-AUC: {roc_auc:.2f}\")"
   ]
  },
  {
   "cell_type": "code",
   "execution_count": 218,
   "id": "cd792ec1",
   "metadata": {},
   "outputs": [
    {
     "name": "stdout",
     "output_type": "stream",
     "text": [
      "Optimal threshold: 0.64\n",
      "Accuracy: 0.7526\n",
      "Precision: 0.7316\n",
      "Recall: 0.7984\n",
      "F1 Score: 0.7635\n",
      "Confusion Matrix:\n"
     ]
    },
    {
     "data": {
      "image/png": "[encoded data removed]",
      "text/plain": [
       "<Figure size 600x500 with 2 Axes>"
      ]
     },
     "metadata": {},
     "output_type": "display_data"
    }
   ],
   "source": [
    "from sklearn.metrics import confusion_matrix\n",
    "\n",
    "# Use optimal_threshold from previous ROC analysis\n",
    "pred_optimal = (merged_df['borrower_score'] >= optimal_threshold).astype(int)\n",
    "true_labels = merged_df['ground_truth_sentiment']\n",
    "\n",
    "acc = accuracy_score(true_labels, pred_optimal)\n",
    "prec = precision_score(true_labels, pred_optimal, zero_division=0)\n",
    "rec = recall_score(true_labels, pred_optimal, zero_division=0)\n",
    "f1 = f1_score(true_labels, pred_optimal, zero_division=0)\n",
    "cm = confusion_matrix(true_labels, pred_optimal)\n",
    "\n",
    "print(f\"Optimal threshold: {optimal_threshold:.2f}\")\n",
    "print(f\"Accuracy: {acc:.4f}\")\n",
    "print(f\"Precision: {prec:.4f}\")\n",
    "print(f\"Recall: {rec:.4f}\")\n",
    "print(f\"F1 Score: {f1:.4f}\")\n",
    "print(\"Confusion Matrix:\")\n",
    "plt.figure(figsize=(6, 5))\n",
    "sns.heatmap(cm, annot=True, fmt='d', cmap='Blues', xticklabels=['Pred 0', 'Pred 1'], yticklabels=['True 0', 'True 1'])\n",
    "plt.title('Confusion Matrix')\n",
    "plt.xlabel('Predicted')\n",
    "plt.ylabel('Actual')\n",
    "plt.show()"
   ]
  },
  {
   "cell_type": "code",
   "execution_count": null,
   "id": "bd63fef2",
   "metadata": {},
   "outputs": [],
   "source": []
  },
  {
   "cell_type": "markdown",
   "id": "fd0ff9d1",
   "metadata": {},
   "source": [
    "## Taking json files"
   ]
  },
  {
   "cell_type": "code",
   "execution_count": 227,
   "id": "c2e6a47e",
   "metadata": {},
   "outputs": [],
   "source": [
    "json_paths = [path.replace('.txt', '.json') for path in txt_paths]"
   ]
  },
  {
   "cell_type": "code",
   "execution_count": 228,
   "id": "f923fb2b",
   "metadata": {},
   "outputs": [
    {
     "name": "stderr",
     "output_type": "stream",
     "text": [
      "Processing Files:   0%|          | 7/2000 [00:08<18:50,  1.76it/s]  "
     ]
    },
    {
     "name": "stdout",
     "output_type": "stream",
     "text": [
      "Invalid control character at: line 9 column 821 (char 2102)\n"
     ]
    },
    {
     "name": "stderr",
     "output_type": "stream",
     "text": [
      "Processing Files:  11%|█▏        | 228/2000 [01:50<16:55,  1.75it/s]"
     ]
    },
    {
     "name": "stdout",
     "output_type": "stream",
     "text": [
      "Invalid control character at: line 5 column 736 (char 795)\n"
     ]
    },
    {
     "name": "stderr",
     "output_type": "stream",
     "text": [
      "Processing Files:  22%|██▏       | 433/2000 [03:31<12:10,  2.14it/s]"
     ]
    },
    {
     "name": "stdout",
     "output_type": "stream",
     "text": [
      "Invalid control character at: line 5 column 834 (char 893)\n"
     ]
    },
    {
     "name": "stderr",
     "output_type": "stream",
     "text": [
      "Processing Files:  36%|███▌      | 723/2000 [05:46<06:25,  3.31it/s]"
     ]
    },
    {
     "name": "stdout",
     "output_type": "stream",
     "text": [
      "Expecting ',' delimiter: line 6 column 7 (char 882)\n"
     ]
    },
    {
     "name": "stderr",
     "output_type": "stream",
     "text": [
      "Processing Files:  41%|████      | 820/2000 [06:32<13:07,  1.50it/s]"
     ]
    },
    {
     "name": "stdout",
     "output_type": "stream",
     "text": [
      "Extra data: line 14 column 1 (char 1951)\n"
     ]
    },
    {
     "name": "stderr",
     "output_type": "stream",
     "text": [
      "Processing Files:  46%|████▌     | 913/2000 [07:13<06:20,  2.86it/s]"
     ]
    },
    {
     "name": "stdout",
     "output_type": "stream",
     "text": [
      "Invalid \\escape: line 5 column 257 (char 316)\n"
     ]
    },
    {
     "name": "stderr",
     "output_type": "stream",
     "text": [
      "Processing Files:  52%|█████▏    | 1031/2000 [08:09<06:14,  2.59it/s]"
     ]
    },
    {
     "name": "stdout",
     "output_type": "stream",
     "text": [
      "Expecting ',' delimiter: line 6 column 7 (char 872)\n"
     ]
    },
    {
     "name": "stderr",
     "output_type": "stream",
     "text": [
      "Processing Files:  70%|███████   | 1406/2000 [11:22<04:09,  2.38it/s]"
     ]
    },
    {
     "name": "stdout",
     "output_type": "stream",
     "text": [
      "Expecting ',' delimiter: line 9 column 191 (char 1214)\n"
     ]
    },
    {
     "name": "stderr",
     "output_type": "stream",
     "text": [
      "Processing Files:  89%|████████▉ | 1788/2000 [14:28<02:05,  1.68it/s]"
     ]
    },
    {
     "name": "stdout",
     "output_type": "stream",
     "text": [
      "Invalid control character at: line 9 column 548 (char 1305)\n"
     ]
    },
    {
     "name": "stderr",
     "output_type": "stream",
     "text": [
      "Processing Files:  96%|█████████▋| 1925/2000 [15:42<00:47,  1.57it/s]"
     ]
    },
    {
     "name": "stdout",
     "output_type": "stream",
     "text": [
      "Invalid control character at: line 9 column 774 (char 1843)\n"
     ]
    },
    {
     "name": "stderr",
     "output_type": "stream",
     "text": [
      "Processing Files:  99%|█████████▉| 1979/2000 [16:11<00:11,  1.81it/s]"
     ]
    },
    {
     "name": "stdout",
     "output_type": "stream",
     "text": [
      "Expecting ',' delimiter: line 8 column 583 (char 1658)\n"
     ]
    },
    {
     "name": "stderr",
     "output_type": "stream",
     "text": [
      "Processing Files: 100%|██████████| 2000/2000 [16:29<00:00,  2.02it/s]\n"
     ]
    }
   ],
   "source": [
    "results_json = []\n",
    "\n",
    "with ThreadPoolExecutor(max_workers=10) as executor:\n",
    "    futures = [executor.submit(get_sentiment_scores, sentiment_zero_shot_prompt, file_path) for file_path in json_paths]\n",
    "    for future in tqdm(as_completed(futures), total=len(futures), desc=\"Processing Files\"):\n",
    "        results_json.append(future.result())"
   ]
  },
  {
   "cell_type": "code",
   "execution_count": 230,
   "id": "08bd99d0",
   "metadata": {},
   "outputs": [
    {
     "name": "stdout",
     "output_type": "stream",
     "text": [
      "<class 'pandas.core.frame.DataFrame'>\n",
      "RangeIndex: 1989 entries, 0 to 1988\n",
      "Data columns (total 5 columns):\n",
      " #   Column             Non-Null Count  Dtype  \n",
      "---  ------             --------------  -----  \n",
      " 0   _id                1989 non-null   object \n",
      " 1   agent_analysis     1989 non-null   object \n",
      " 2   agent_score        1989 non-null   float64\n",
      " 3   borrower_analysis  1989 non-null   object \n",
      " 4   borrower_score     1989 non-null   float64\n",
      "dtypes: float64(2), object(3)\n",
      "memory usage: 77.8+ KB\n"
     ]
    }
   ],
   "source": [
    "results_json_fil = [res for res in results_json if res is not None]\n",
    "results_json_df = pd.DataFrame(results_json_fil)\n",
    "results_json_df.info()"
   ]
  },
  {
   "cell_type": "code",
   "execution_count": 231,
   "id": "b0fc4dc4",
   "metadata": {},
   "outputs": [],
   "source": [
    "results_json_df.to_csv('/Users/sohammistri/Documents/Prodigal-Take-Home/sentiment-take-home/gpt_41_json_file_zero_shot.csv', index=False)"
   ]
  },
  {
   "cell_type": "code",
   "execution_count": 232,
   "id": "b8e684ed",
   "metadata": {},
   "outputs": [
    {
     "data": {
      "text/html": [
       "<div>\n",
       "<style scoped>\n",
       "    .dataframe tbody tr th:only-of-type {\n",
       "        vertical-align: middle;\n",
       "    }\n",
       "\n",
       "    .dataframe tbody tr th {\n",
       "        vertical-align: top;\n",
       "    }\n",
       "\n",
       "    .dataframe thead th {\n",
       "        text-align: right;\n",
       "    }\n",
       "</style>\n",
       "<table border=\"1\" class=\"dataframe\">\n",
       "  <thead>\n",
       "    <tr style=\"text-align: right;\">\n",
       "      <th></th>\n",
       "      <th>_id</th>\n",
       "      <th>duration</th>\n",
       "      <th>disposition</th>\n",
       "      <th>type</th>\n",
       "      <th>agent_analysis</th>\n",
       "      <th>agent_score</th>\n",
       "      <th>borrower_analysis</th>\n",
       "      <th>borrower_score</th>\n",
       "    </tr>\n",
       "  </thead>\n",
       "  <tbody>\n",
       "    <tr>\n",
       "      <th>0</th>\n",
       "      <td>1558137f-4ab5-409e-8159-109c2e9358d5</td>\n",
       "      <td>3927.771375</td>\n",
       "      <td>No Pay - Bankruptcy</td>\n",
       "      <td>negative</td>\n",
       "      <td>The agent maintains a consistently professiona...</td>\n",
       "      <td>0.97</td>\n",
       "      <td>The borrower expresses mild frustration and co...</td>\n",
       "      <td>0.78</td>\n",
       "    </tr>\n",
       "    <tr>\n",
       "      <th>1</th>\n",
       "      <td>05c54daf-9bca-4bd7-b833-b3ba8c1e06e0</td>\n",
       "      <td>146.520000</td>\n",
       "      <td>No Pay - Cant pay now</td>\n",
       "      <td>negative</td>\n",
       "      <td>The Agent remains professional, courteous, and...</td>\n",
       "      <td>0.92</td>\n",
       "      <td>The Borrower begins with brief, neutral respon...</td>\n",
       "      <td>0.57</td>\n",
       "    </tr>\n",
       "    <tr>\n",
       "      <th>2</th>\n",
       "      <td>84fb4fec-b36f-43bc-a4ef-a27ba322c146</td>\n",
       "      <td>749.635875</td>\n",
       "      <td>No Pay - Dispute</td>\n",
       "      <td>negative</td>\n",
       "      <td>The Agent maintains a professional and courteo...</td>\n",
       "      <td>0.93</td>\n",
       "      <td>The Borrower starts the conversation neutrally...</td>\n",
       "      <td>0.45</td>\n",
       "    </tr>\n",
       "    <tr>\n",
       "      <th>3</th>\n",
       "      <td>2133927a-0d11-4d54-98d6-cd21c71417f0</td>\n",
       "      <td>448.104375</td>\n",
       "      <td>No Pay - Dispute</td>\n",
       "      <td>negative</td>\n",
       "      <td>The agent maintains a professional and helpful...</td>\n",
       "      <td>0.93</td>\n",
       "      <td>The borrower starts from a neutral position, p...</td>\n",
       "      <td>0.45</td>\n",
       "    </tr>\n",
       "    <tr>\n",
       "      <th>4</th>\n",
       "      <td>048518c6-c17c-4524-8ff3-6a0b2735863c</td>\n",
       "      <td>108.432000</td>\n",
       "      <td>No Pay - Dispute</td>\n",
       "      <td>negative</td>\n",
       "      <td>The agent consistently maintains a neutral to ...</td>\n",
       "      <td>0.85</td>\n",
       "      <td>The borrower's sentiment starts neutral with a...</td>\n",
       "      <td>0.35</td>\n",
       "    </tr>\n",
       "  </tbody>\n",
       "</table>\n",
       "</div>"
      ],
      "text/plain": [
       "                                    _id     duration            disposition  \\\n",
       "0  1558137f-4ab5-409e-8159-109c2e9358d5  3927.771375    No Pay - Bankruptcy   \n",
       "1  05c54daf-9bca-4bd7-b833-b3ba8c1e06e0   146.520000  No Pay - Cant pay now   \n",
       "2  84fb4fec-b36f-43bc-a4ef-a27ba322c146   749.635875       No Pay - Dispute   \n",
       "3  2133927a-0d11-4d54-98d6-cd21c71417f0   448.104375       No Pay - Dispute   \n",
       "4  048518c6-c17c-4524-8ff3-6a0b2735863c   108.432000       No Pay - Dispute   \n",
       "\n",
       "       type                                     agent_analysis  agent_score  \\\n",
       "0  negative  The agent maintains a consistently professiona...         0.97   \n",
       "1  negative  The Agent remains professional, courteous, and...         0.92   \n",
       "2  negative  The Agent maintains a professional and courteo...         0.93   \n",
       "3  negative  The agent maintains a professional and helpful...         0.93   \n",
       "4  negative  The agent consistently maintains a neutral to ...         0.85   \n",
       "\n",
       "                                   borrower_analysis  borrower_score  \n",
       "0  The borrower expresses mild frustration and co...            0.78  \n",
       "1  The Borrower begins with brief, neutral respon...            0.57  \n",
       "2  The Borrower starts the conversation neutrally...            0.45  \n",
       "3  The borrower starts from a neutral position, p...            0.45  \n",
       "4  The borrower's sentiment starts neutral with a...            0.35  "
      ]
     },
     "execution_count": 232,
     "metadata": {},
     "output_type": "execute_result"
    }
   ],
   "source": [
    "merged_df = df_call_metadata.merge(results_json_df, on=\"_id\", how=\"inner\")\n",
    "merged_df.head()"
   ]
  },
  {
   "cell_type": "code",
   "execution_count": 233,
   "id": "eb7fcd70",
   "metadata": {},
   "outputs": [],
   "source": [
    "merged_df['ground_truth_sentiment'] = (merged_df['type'] == 'positive').astype(int)"
   ]
  },
  {
   "cell_type": "code",
   "execution_count": 234,
   "id": "02ebc207",
   "metadata": {},
   "outputs": [
    {
     "name": "stdout",
     "output_type": "stream",
     "text": [
      "Correlation (ground_truth_sentiment, agent_score): 0.3519\n",
      "Correlation (ground_truth_sentiment, borrower_score): 0.5255\n"
     ]
    }
   ],
   "source": [
    "# Calculate correlation coefficients between ground_truth_sentiment and agent_score, borrower_score\n",
    "corr_agent = merged_df['ground_truth_sentiment'].corr(merged_df['agent_score'])\n",
    "corr_borrower = merged_df['ground_truth_sentiment'].corr(merged_df['borrower_score'])\n",
    "\n",
    "print(f\"Correlation (ground_truth_sentiment, agent_score): {corr_agent:.4f}\")\n",
    "print(f\"Correlation (ground_truth_sentiment, borrower_score): {corr_borrower:.4f}\")"
   ]
  },
  {
   "cell_type": "code",
   "execution_count": 235,
   "id": "8f85f2a7",
   "metadata": {},
   "outputs": [
    {
     "name": "stdout",
     "output_type": "stream",
     "text": [
      "         agent_score                                                  \\\n",
      "               count      mean       std  min   25%   50%   75%  max   \n",
      "type                                                                   \n",
      "negative       996.0  0.870100  0.099757  0.5  0.85  0.92  0.95  1.0   \n",
      "positive       993.0  0.929426  0.050012  0.6  0.92  0.95  0.96  1.0   \n",
      "\n",
      "         borrower_score                                                   \n",
      "                  count      mean       std   min   25%  50%   75%   max  \n",
      "type                                                                      \n",
      "negative          996.0  0.518102  0.166287  0.10  0.40  0.5  0.65  0.93  \n",
      "positive          993.0  0.698510  0.122624  0.23  0.65  0.7  0.78  0.98  \n"
     ]
    },
    {
     "data": {
      "image/png": "[encoded data removed]",
      "text/plain": [
       "<Figure size 1200x500 with 2 Axes>"
      ]
     },
     "metadata": {},
     "output_type": "display_data"
    },
    {
     "data": {
      "text/plain": [
       "<Figure size 1000x500 with 0 Axes>"
      ]
     },
     "metadata": {},
     "output_type": "display_data"
    },
    {
     "data": {
      "image/png": "[encoded data removed]",
      "text/plain": [
       "<Figure size 640x480 with 2 Axes>"
      ]
     },
     "metadata": {},
     "output_type": "display_data"
    }
   ],
   "source": [
    "# Group by 'type' and describe agent_score and borrower_score\n",
    "stats = merged_df.groupby('type')[['agent_score', 'borrower_score']].describe()\n",
    "print(stats)\n",
    "\n",
    "# Plot distributions\n",
    "fig, axes = plt.subplots(1, 2, figsize=(12, 5))\n",
    "\n",
    "for i, score_type in enumerate(['agent_score', 'borrower_score']):\n",
    "    for sentiment_type in ['positive', 'negative']:\n",
    "        subset = merged_df[merged_df['type'] == sentiment_type][score_type]\n",
    "        axes[i].hist(subset, bins=20, alpha=0.6, label=sentiment_type)\n",
    "    axes[i].set_title(f'Distribution of {score_type}')\n",
    "    axes[i].set_xlabel('Score')\n",
    "    axes[i].set_ylabel('Count')\n",
    "    axes[i].legend()\n",
    "\n",
    "plt.tight_layout()\n",
    "plt.show()\n",
    "\n",
    "# Boxplots for visual comparison\n",
    "plt.figure(figsize=(10, 5))\n",
    "merged_df.boxplot(column=['agent_score', 'borrower_score'], by='type')\n",
    "plt.suptitle('')\n",
    "plt.title('Agent and Borrower Score by Type')\n",
    "plt.xlabel('Type')\n",
    "plt.ylabel('Score')\n",
    "plt.show()\n"
   ]
  },
  {
   "cell_type": "code",
   "execution_count": 236,
   "id": "ef0dd4f7",
   "metadata": {},
   "outputs": [
    {
     "data": {
      "image/png": "[encoded data removed]",
      "text/plain": [
       "<Figure size 800x600 with 1 Axes>"
      ]
     },
     "metadata": {},
     "output_type": "display_data"
    },
    {
     "name": "stdout",
     "output_type": "stream",
     "text": [
      "Optimal threshold: 0.61\n",
      "ROC-AUC: 0.80\n"
     ]
    }
   ],
   "source": [
    "from sklearn.metrics import roc_curve, roc_auc_score\n",
    "\n",
    "# Prepare true labels and predicted scores from merged_df\n",
    "y_true = merged_df['ground_truth_sentiment']\n",
    "y_scores = merged_df['borrower_score']\n",
    "\n",
    "# Compute ROC curve and ROC-AUC\n",
    "fpr, tpr, thresholds = roc_curve(y_true, y_scores)\n",
    "roc_auc = roc_auc_score(y_true, y_scores)\n",
    "\n",
    "# Find optimal threshold (maximizing TPR - FPR)\n",
    "optimal_idx = np.argmax(tpr - fpr)\n",
    "optimal_threshold = thresholds[optimal_idx]\n",
    "\n",
    "plt.figure(figsize=(8, 6))\n",
    "plt.plot(fpr, tpr, label=f'ROC curve (AUC = {roc_auc:.2f})')\n",
    "plt.scatter(fpr[optimal_idx], tpr[optimal_idx], color='red', label=f'Optimal threshold = {optimal_threshold:.2f}')\n",
    "plt.plot([0, 1], [0, 1], 'k--', label='Random')\n",
    "plt.xlabel('False Positive Rate')\n",
    "plt.ylabel('True Positive Rate')\n",
    "plt.title('ROC Curve for Borrower Sentiment Score')\n",
    "plt.legend()\n",
    "plt.show()\n",
    "\n",
    "print(f\"Optimal threshold: {optimal_threshold:.2f}\")\n",
    "print(f\"ROC-AUC: {roc_auc:.2f}\")"
   ]
  },
  {
   "cell_type": "code",
   "execution_count": 237,
   "id": "81646c54",
   "metadata": {},
   "outputs": [
    {
     "name": "stdout",
     "output_type": "stream",
     "text": [
      "Optimal threshold: 0.61\n",
      "Accuracy: 0.7481\n",
      "Precision: 0.7143\n",
      "Recall: 0.8258\n",
      "F1 Score: 0.7660\n",
      "Confusion Matrix:\n"
     ]
    },
    {
     "data": {
      "image/png": "[encoded data removed]",
      "text/plain": [
       "<Figure size 600x500 with 2 Axes>"
      ]
     },
     "metadata": {},
     "output_type": "display_data"
    }
   ],
   "source": [
    "from sklearn.metrics import confusion_matrix\n",
    "\n",
    "# Use optimal_threshold from previous ROC analysis\n",
    "pred_optimal = (merged_df['borrower_score'] >= optimal_threshold).astype(int)\n",
    "true_labels = merged_df['ground_truth_sentiment']\n",
    "\n",
    "acc = accuracy_score(true_labels, pred_optimal)\n",
    "prec = precision_score(true_labels, pred_optimal, zero_division=0)\n",
    "rec = recall_score(true_labels, pred_optimal, zero_division=0)\n",
    "f1 = f1_score(true_labels, pred_optimal, zero_division=0)\n",
    "cm = confusion_matrix(true_labels, pred_optimal)\n",
    "\n",
    "print(f\"Optimal threshold: {optimal_threshold:.2f}\")\n",
    "print(f\"Accuracy: {acc:.4f}\")\n",
    "print(f\"Precision: {prec:.4f}\")\n",
    "print(f\"Recall: {rec:.4f}\")\n",
    "print(f\"F1 Score: {f1:.4f}\")\n",
    "print(\"Confusion Matrix:\")\n",
    "plt.figure(figsize=(6, 5))\n",
    "sns.heatmap(cm, annot=True, fmt='d', cmap='Blues', xticklabels=['Pred 0', 'Pred 1'], yticklabels=['True 0', 'True 1'])\n",
    "plt.title('Confusion Matrix')\n",
    "plt.xlabel('Predicted')\n",
    "plt.ylabel('Actual')\n",
    "plt.show()"
   ]
  },
  {
   "cell_type": "code",
   "execution_count": 21,
   "id": "be87c457",
   "metadata": {},
   "outputs": [
    {
     "data": {
      "text/plain": [
       "disposition\n",
       "No Pay - Dispute                    348\n",
       "Promise - Payment in full           247\n",
       "No Pay - Not right now              239\n",
       "Promise - Payment plan              211\n",
       "No Pay - Cant pay now               179\n",
       "Promise - Settlement in full        139\n",
       "Promise - One time payment           80\n",
       "Payment Plan Modification            77\n",
       "Promise - Settlement in payments     46\n",
       "No Pay - Bankruptcy                  24\n",
       "No Pay - Cancel payment plan         10\n",
       "Name: count, dtype: int64"
      ]
     },
     "metadata": {},
     "output_type": "display_data"
    },
    {
     "name": "stdout",
     "output_type": "stream",
     "text": [
      "Sum of value_counts: 1600\n",
      "Length of train_df: 1600\n"
     ]
    }
   ],
   "source": [
    "import pandas as pd\n",
    "\n",
    "# Read the CSV file into a pandas DataFrame\n",
    "train_df = pd.read_csv('/root/Prodigal-Take-Home/sentiment-take-home/sentiment-take-home/train_df.csv')\n",
    "\n",
    "# Replace the specified value in the 'disposition' column\n",
    "train_df['disposition'] = train_df['disposition'].replace(\"No Pay - Can't pay now\", \"No Pay - Cant pay now\")\n",
    "\n",
    "# Display the updated DataFrame\n",
    "display(train_df['disposition'].value_counts())\n",
    "print(\"Sum of value_counts:\", train_df['disposition'].value_counts().sum())\n",
    "print(\"Length of train_df:\", len(train_df))\n",
    "# train_df.to_csv(\"/root/Prodigal-Take-Home/sentiment-take-home/sentiment-take-home/val_df.csv\")"
   ]
  },
  {
   "cell_type": "code",
   "execution_count": 23,
   "id": "b773ddb0",
   "metadata": {},
   "outputs": [
    {
     "name": "stdout",
     "output_type": "stream",
     "text": [
      "id2label_disposition: {0: 'Promise - Payment plan', 1: 'Promise - Settlement in full', 2: 'No Pay - Cant pay now', 3: 'No Pay - Not right now', 4: 'No Pay - Dispute', 5: 'Promise - Payment in full', 6: 'No Pay - Bankruptcy', 7: 'Promise - One time payment', 8: 'Promise - Settlement in payments', 9: 'Payment Plan Modification', 10: 'No Pay - Cancel payment plan'}\n",
      "label2id_disposition: {'Promise - Payment plan': 0, 'Promise - Settlement in full': 1, 'No Pay - Cant pay now': 2, 'No Pay - Not right now': 3, 'No Pay - Dispute': 4, 'Promise - Payment in full': 5, 'No Pay - Bankruptcy': 6, 'Promise - One time payment': 7, 'Promise - Settlement in payments': 8, 'Payment Plan Modification': 9, 'No Pay - Cancel payment plan': 10}\n"
     ]
    }
   ],
   "source": [
    "# Create id2label and label2id mappings for all unique dispositions in train_df\n",
    "unique_dispositions = train_df['disposition'].unique()\n",
    "id2label_agent = {i: disp for i, disp in enumerate(unique_dispositions)}\n",
    "label2id_agent = {disp: i for i, disp in id2label_disposition.items()}\n",
    "\n",
    "print(\"id2label_disposition:\", id2label_agent)\n",
    "print(\"label2id_disposition:\", label2id_agent)"
   ]
  },
  {
   "cell_type": "code",
   "execution_count": 24,
   "id": "cdc52a79",
   "metadata": {},
   "outputs": [
    {
     "name": "stdout",
     "output_type": "stream",
     "text": [
      "<class 'pandas.core.frame.DataFrame'>\n",
      "RangeIndex: 1600 entries, 0 to 1599\n",
      "Data columns (total 5 columns):\n",
      " #   Column       Non-Null Count  Dtype  \n",
      "---  ------       --------------  -----  \n",
      " 0   Unnamed: 0   1600 non-null   int64  \n",
      " 1   _id          1600 non-null   object \n",
      " 2   duration     1600 non-null   float64\n",
      " 3   disposition  1600 non-null   object \n",
      " 4   type         1600 non-null   object \n",
      "dtypes: float64(1), int64(1), object(3)\n",
      "memory usage: 62.6+ KB\n"
     ]
    }
   ],
   "source": [
    "train_df.info()"
   ]
  },
  {
   "cell_type": "code",
   "execution_count": 28,
   "id": "719a20b5",
   "metadata": {},
   "outputs": [],
   "source": [
    "\n",
    "id2label_agent = {0: 'Promise - Payment plan', 1: 'Promise - Settlement in full',\\\n",
    "                   2: 'No Pay - Cant pay now', 3: 'No Pay - Not right now',\\\n",
    "                      4: 'No Pay - Dispute', 5: 'Promise - Payment in full',\\\n",
    "                          6: 'No Pay - Bankruptcy', 7: 'Promise - One time payment',\\\n",
    "                              8: 'Promise - Settlement in payments', 9: 'Payment Plan Modification',\\\n",
    "                                  10: 'No Pay - Cancel payment plan'}\n",
    "label2id_agent = {v: k for k, v in id2label_agent.items()}"
   ]
  },
  {
   "cell_type": "code",
   "execution_count": 29,
   "id": "f82f9dbd",
   "metadata": {},
   "outputs": [],
   "source": [
    "def create_dataset(file_path, conversations_path, label2id, col):\n",
    "    df = pd.read_csv(file_path)\n",
    "\n",
    "    def add_text_column(df, conversations_path):\n",
    "        \"\"\"\n",
    "        Adds a 'text' column to the DataFrame by reading text from files.\n",
    "\n",
    "        Args:\n",
    "            df (pd.DataFrame): The DataFrame to modify.\n",
    "            conversations_path (str): The path to the directory containing the text files.\n",
    "\n",
    "        Returns:\n",
    "            pd.DataFrame: The DataFrame with the added 'text' column.\n",
    "        \"\"\"\n",
    "        df['text'] = df['_id'].apply(lambda x: open(os.path.join(conversations_path, f\"{x}.txt\")).read())\n",
    "        return df\n",
    "\n",
    "    df = add_text_column(df, conversations_path)\n",
    "    df['labels'] = df[col].apply(lambda x: label2id.get(str(x).strip()) if pd.notnull(x) else None)\n",
    "\n",
    "    df = df.sample(frac=1, random_state=42).reset_index(drop=True)\n",
    "    df = df[['text', 'disposition', 'labels']]\n",
    "\n",
    "    return df\n"
   ]
  },
  {
   "cell_type": "code",
   "execution_count": 30,
   "id": "8b764198",
   "metadata": {},
   "outputs": [],
   "source": [
    "train_path = '/root/Prodigal-Take-Home/sentiment-take-home/sentiment-take-home/train_df.csv'\n",
    "val_path = '/root/Prodigal-Take-Home/sentiment-take-home/sentiment-take-home/val_df.csv'\n",
    "test_path = '/root/Prodigal-Take-Home/sentiment-take-home/sentiment-take-home/test_df.csv'\n",
    "\n",
    "conversations_path = '/root/Prodigal-Take-Home/sentiment-take-home/sentiment-take-home/conversations'"
   ]
  },
  {
   "cell_type": "code",
   "execution_count": 31,
   "id": "eb84eaa3",
   "metadata": {},
   "outputs": [
    {
     "name": "stdout",
     "output_type": "stream",
     "text": [
      "<class 'pandas.core.frame.DataFrame'>\n",
      "RangeIndex: 1600 entries, 0 to 1599\n",
      "Data columns (total 3 columns):\n",
      " #   Column       Non-Null Count  Dtype \n",
      "---  ------       --------------  ----- \n",
      " 0   text         1600 non-null   object\n",
      " 1   disposition  1600 non-null   object\n",
      " 2   labels       1600 non-null   int64 \n",
      "dtypes: int64(1), object(2)\n",
      "memory usage: 37.6+ KB\n"
     ]
    }
   ],
   "source": [
    "import os\n",
    "\n",
    "train_df = create_dataset(train_path, conversations_path, label2id_agent, \"disposition\")\n",
    "train_df.info()"
   ]
  },
  {
   "cell_type": "code",
   "execution_count": null,
   "id": "2c254a97",
   "metadata": {},
   "outputs": [],
   "source": []
  }
 ],
 "metadata": {
  "kernelspec": {
   "display_name": "Prodigal-Take-Home",
   "language": "python",
   "name": "python3"
  },
  "language_info": {
   "codemirror_mode": {
    "name": "ipython",
    "version": 3
   },
   "file_extension": ".py",
   "mimetype": "text/x-python",
   "name": "python",
   "nbconvert_exporter": "python",
   "pygments_lexer": "ipython3",
   "version": "3.11.10"
  }
 },
 "nbformat": 4,
 "nbformat_minor": 5
}
