{
 "cells": [
  {
   "cell_type": "code",
   "execution_count": 1,
   "id": "7e1e50c3",
   "metadata": {},
   "outputs": [],
   "source": [
    "from openai import OpenAI\n",
    "import json\n",
    "import re\n",
    "import numpy as np\n",
    "import pandas as pd\n",
    "import random\n",
    "from sklearn.model_selection import train_test_split\n",
    "from IPython.display import display, Markdown\n",
    "from copy import deepcopy\n",
    "from concurrent.futures import ThreadPoolExecutor, as_completed\n",
    "from tqdm import tqdm\n",
    "import seaborn as sns\n",
    "from sklearn.metrics import confusion_matrix\n",
    "from sklearn.metrics import roc_curve, roc_auc_score\n",
    "from sklearn.metrics import accuracy_score, precision_score, recall_score, f1_score\n",
    "import matplotlib.pyplot as plt\n",
    "from transformers import AutoTokenizer, AutoModelForSequenceClassification\n",
    "from datasets import Dataset\n",
    "from utils import *\n",
    "import torch\n",
    "from torch.utils.data import DataLoader\n",
    "from sklearn.metrics import classification_report, confusion_matrix, ConfusionMatrixDisplay\n",
    "%matplotlib inline"
   ]
  },
  {
   "cell_type": "code",
   "execution_count": null,
   "id": "66a49d70",
   "metadata": {},
   "outputs": [],
   "source": [
    "client = OpenAI()"
   ]
  },
  {
   "cell_type": "markdown",
   "id": "e6e67f35",
   "metadata": {},
   "source": [
    "# Step 1: Explore the data\n",
    "\n",
    "Explore the data in full"
   ]
  },
  {
   "cell_type": "markdown",
   "id": "5ceeaa9c",
   "metadata": {},
   "source": [
    "## 1. Metdata csv file"
   ]
  },
  {
   "cell_type": "code",
   "execution_count": null,
   "id": "02d4c7e7",
   "metadata": {},
   "outputs": [],
   "source": [
    "df_call_metadata = pd.read_csv('/root/Prodigal-Take-Home/sentiment-take-home/sentiment-take-home/call_metadata.csv')\n",
    "print(df_call_metadata.head())\n",
    "print(df_call_metadata.info())"
   ]
  },
  {
   "cell_type": "code",
   "execution_count": null,
   "id": "9debc07b",
   "metadata": {},
   "outputs": [],
   "source": [
    "print(df_call_metadata['type'].value_counts())"
   ]
  },
  {
   "cell_type": "code",
   "execution_count": null,
   "id": "76e73298",
   "metadata": {},
   "outputs": [],
   "source": [
    "print(df_call_metadata['disposition'].value_counts())"
   ]
  },
  {
   "cell_type": "code",
   "execution_count": null,
   "id": "e4e068df",
   "metadata": {},
   "outputs": [],
   "source": [
    "df_call_metadata['disposition'] = df_call_metadata['disposition'].replace(\"No Pay - Can't pay now\", \"No Pay - Cant pay now\")"
   ]
  },
  {
   "cell_type": "code",
   "execution_count": null,
   "id": "3a12f56f",
   "metadata": {},
   "outputs": [],
   "source": [
    "disposition_type_counts = df_call_metadata.groupby('disposition')['type'].value_counts().unstack(fill_value=0)\n",
    "print(disposition_type_counts)"
   ]
  },
  {
   "cell_type": "code",
   "execution_count": null,
   "id": "a27db20f",
   "metadata": {},
   "outputs": [],
   "source": [
    "positive_dispositions = set(disposition_type_counts[disposition_type_counts['positive'] > 0].index.tolist())\n",
    "negative_dispositions = set(disposition_type_counts[disposition_type_counts['negative'] > 0].index.tolist())\n",
    "\n",
    "print(\"Positive disposition types:\", positive_dispositions)\n",
    "print(\"Negative disposition types:\", negative_dispositions)"
   ]
  },
  {
   "cell_type": "code",
   "execution_count": null,
   "id": "046788cf",
   "metadata": {},
   "outputs": [],
   "source": [
    "len(positive_dispositions), len(negative_dispositions)"
   ]
  },
  {
   "cell_type": "markdown",
   "id": "25bfa378",
   "metadata": {},
   "source": [
    "### Split dataset into train-val-test\n",
    "\n",
    "We do 80-10-10 train-val-test split, ensuring there is no class imbalance in either split"
   ]
  },
  {
   "cell_type": "code",
   "execution_count": null,
   "id": "1c10097d",
   "metadata": {},
   "outputs": [],
   "source": [
    "from sklearn.model_selection import train_test_split\n",
    "\n",
    "# Separate positive and negative samples\n",
    "df_positive = df_call_metadata[df_call_metadata['type'] == 'positive']\n",
    "df_negative = df_call_metadata[df_call_metadata['type'] == 'negative']\n",
    "\n",
    "# Calculate split sizes\n",
    "train_size = 0.8\n",
    "val_size = 0.1\n",
    "test_size = 0.1\n",
    "\n",
    "def split_df(df, train_size, val_size, test_size):\n",
    "    df_train, df_temp = train_test_split(df, train_size=train_size, random_state=42, shuffle=True)\n",
    "    relative_val_size = val_size / (val_size + test_size)\n",
    "    df_val, df_test = train_test_split(df_temp, train_size=relative_val_size, random_state=42, shuffle=True)\n",
    "    return df_train, df_val, df_test\n",
    "\n",
    "# Split positive and negative samples\n",
    "pos_train, pos_val, pos_test = split_df(df_positive, train_size, val_size, test_size)\n",
    "neg_train, neg_val, neg_test = split_df(df_negative, train_size, val_size, test_size)\n",
    "\n",
    "# Concatenate to get final splits with equal positive and negative samples\n",
    "train_df = pd.concat([pos_train, neg_train]).sample(frac=1, random_state=42).reset_index(drop=True)\n",
    "val_df = pd.concat([pos_val, neg_val]).sample(frac=1, random_state=42).reset_index(drop=True)\n",
    "test_df = pd.concat([pos_test, neg_test]).sample(frac=1, random_state=42).reset_index(drop=True)\n",
    "\n",
    "print(f\"Train shape: {train_df.shape}, Positive: {(train_df['type'] == 'positive').sum()}, Negative: {(train_df['type'] == 'negative').sum()}\")\n",
    "print(f\"Val shape: {val_df.shape}, Positive: {(val_df['type'] == 'positive').sum()}, Negative: {(val_df['type'] == 'negative').sum()}\")\n",
    "print(f\"Test shape: {test_df.shape}, Positive: {(test_df['type'] == 'positive').sum()}, Negative: {(test_df['type'] == 'negative').sum()}\")"
   ]
  },
  {
   "cell_type": "code",
   "execution_count": null,
   "id": "3ecadfc5",
   "metadata": {},
   "outputs": [],
   "source": [
    "train_df.info()"
   ]
  },
  {
   "cell_type": "code",
   "execution_count": null,
   "id": "39a3f423",
   "metadata": {},
   "outputs": [],
   "source": [
    "train_df.to_csv('/root/Prodigal-Take-Home/sentiment-take-home/sentiment-take-home/train_df.csv', index=False)\n",
    "val_df.to_csv('/root/Prodigal-Take-Home/sentiment-take-home/sentiment-take-home/val_df.csv', index=False)\n",
    "test_df.to_csv('/root/Prodigal-Take-Home/sentiment-take-home/sentiment-take-home/test_df.csv', index=False)"
   ]
  },
  {
   "cell_type": "markdown",
   "id": "692e40fd",
   "metadata": {},
   "source": [
    "## 2. Conversations"
   ]
  },
  {
   "cell_type": "code",
   "execution_count": null,
   "id": "62d7c995",
   "metadata": {},
   "outputs": [],
   "source": [
    "import os\n",
    "\n",
    "conversation_folder = '/Users/sohammistri/Documents/Prodigal-Take-Home/sentiment-take-home/conversations'\n",
    "txt_files = [f for f in os.listdir(conversation_folder) if f.endswith('.txt')]\n",
    "print(f\"Number of text files: {len(txt_files)}\")"
   ]
  },
  {
   "cell_type": "code",
   "execution_count": null,
   "id": "a3d5f944",
   "metadata": {},
   "outputs": [],
   "source": [
    "# Remove '.txt' extension from txt_files to get basenames\n",
    "txt_basenames = set([os.path.splitext(f)[0] for f in txt_files])\n",
    "\n",
    "# Get set of _id values from df_call_metadata\n",
    "df_ids = set(df_call_metadata['_id'])\n",
    "\n",
    "assert txt_basenames == df_ids"
   ]
  },
  {
   "cell_type": "code",
   "execution_count": null,
   "id": "4b6d57ce",
   "metadata": {},
   "outputs": [],
   "source": [
    "assert df_call_metadata['_id'].is_unique, \"Not all _id values are unique in df_call_metadata\""
   ]
  },
  {
   "cell_type": "code",
   "execution_count": null,
   "id": "8bbd9b26",
   "metadata": {},
   "outputs": [],
   "source": [
    "random_txt = random.choice(txt_files)\n",
    "txt_path = os.path.join(conversation_folder, random_txt)\n",
    "with open(txt_path, 'r') as f:\n",
    "    content = f.read()\n",
    "\n",
    "display(Markdown(f\"### {random_txt}\\n\\n{content}\"))"
   ]
  },
  {
   "cell_type": "markdown",
   "id": "668ded49",
   "metadata": {},
   "source": [
    "# Step 2: Identify Potential PII\n",
    "\n",
    "For each conversation, flag potential PII in the call logs. Mostly looked clean, but imp to do a sanity check on a sample"
   ]
  },
  {
   "cell_type": "code",
   "execution_count": null,
   "id": "c89aee09",
   "metadata": {},
   "outputs": [],
   "source": [
    "pii_filter_prompt = \"\"\"\n",
    "# Context:\n",
    "\"You are an AI assistant tasked with identifying and flagging customer Personally Identifiable Information (PII) within a given text. Your role is to act as a data protection filter.\n",
    "\n",
    "You will be given a conversation between an AI agent and a customer as input. Here is how you should operate:\n",
    "1.  Analyze the following conversation content provided between an AI agent and a customer.\n",
    "2.  Your primary objective is to determine if any customer PII is present in the text. PII includes, but is not limited to:\n",
    "    *   Names (full names, first names, last names)\n",
    "    *   Email addresses\n",
    "    *   Phone numbers\n",
    "    *   Physical addresses (street, city, state, zip code)\n",
    "    *   Social Security numbers or other government-issued identification numbers\n",
    "    *   Credit card numbers or financial account information\n",
    "    *   Dates of birth\n",
    "    *   Login credentials (usernames, passwords)\n",
    "    *   Medical information\n",
    "    *   IP addresses or other unique device identifiers\n",
    "3. Crucially, you must **ignore any data that has been masked**. Masked data is information that has been partially or fully obscured. Common examples of masking techniques to ignore include:\n",
    "    - Redaction/Masking Out: Replacing parts of the data with characters like 'X', '*', or '#'. For instance, XXX-XX-1234 or john.doe@******.com.\n",
    "    - Substitution/Replacement: Replacing sensitive data with fictitious yet realistic-looking data. For example, a real name might be replaced with a randomly generated one.\n",
    "    - Tokenization/Encryption: Replacing data with a non-sensitive placeholder or an encrypted string.\n",
    "    - Nulling Out: Replacing sensitive information with null values or blanks.\n",
    "4. **Ignore Agent Names**: You must differentiate between the agent and the customer and ignore the agent's name. The agent's name may be stated explicitly (e.g., \"My name is Alex,\" \"This is SupportBot,\" or \"You're speaking with Sarah.\"). Your focus is exclusively on identifying the **customer's PII**.\n",
    "5.  After your analysis, you will provide a binary output:\n",
    "    *   Return **1** if you identify any potential PII in the conversation that is unmasked.\n",
    "    *   Return **0** if you do not find any PII in the conversation or **all** potential PII is masked out\n",
    "\n",
    "# Output Format:\n",
    "- Analysis of the conversation: <Detailed analysis of the conversation between the AI agent and customer wrt finding potential PII>\n",
    "- Identified PII: <List of potential customer PII data identified in the conversation. Return None if the input is customer PII free>\n",
    "- Score: <0 if there is no customer PII in the conversation or all customer PII is masked, 1 otherwise>\n",
    "\n",
    "IMPORTANT: Remember to always adhere to this output format for consistency\n",
    "\n",
    "# Input\n",
    "Input Content: {conv} \n",
    "\n",
    "# Output\n",
    "\"\"\""
   ]
  },
  {
   "cell_type": "code",
   "execution_count": null,
   "id": "8cd5ae1e",
   "metadata": {},
   "outputs": [],
   "source": [
    "p = deepcopy(pii_filter_prompt)\n",
    "random_txt = random.choice(txt_files)\n",
    "txt_path = os.path.join(conversation_folder, random_txt)\n",
    "txt_path = '/Users/sohammistri/Documents/Prodigal-Take-Home/sentiment-take-home/conversations/f8832c53-8b6c-4f73-bcce-b06c4f89b0f3.txt'\n",
    "with open(txt_path, 'r') as f:\n",
    "    content = f.read()\n",
    "\n",
    "p = p.format(conv=content)\n",
    "response = client.responses.create(\n",
    "    model=\"gpt-4.1\",\n",
    "    input=p\n",
    ")\n",
    "\n",
    "display(Markdown(response.output_text))\n"
   ]
  },
  {
   "cell_type": "code",
   "execution_count": null,
   "id": "9827dee7",
   "metadata": {},
   "outputs": [],
   "source": [
    "def extract_sections(text):\n",
    "    analysis = None\n",
    "    pii = None\n",
    "    score = None\n",
    "\n",
    "    analysis_match = re.search(r'- Analysis of the conversation:\\s*(.*?)(?:- Identified PII:|$)', text, re.DOTALL)\n",
    "    pii_match = re.search(r'- Identified PII:\\s*(.*?)(?:- Score:|$)', text, re.DOTALL)\n",
    "    score_match = re.search(r'- Score:\\s*(\\d+)', text)\n",
    "\n",
    "    if analysis_match:\n",
    "        analysis = analysis_match.group(1).strip()\n",
    "    if pii_match:\n",
    "        pii = pii_match.group(1).strip()\n",
    "    if score_match:\n",
    "        score = int(score_match.group(1).strip())\n",
    "\n",
    "    return analysis, pii, score\n",
    "\n",
    "def get_pii_score(prompt, file_path):\n",
    "    with open(file_path, 'r') as f:\n",
    "        content = f.read()\n",
    "\n",
    "    try:\n",
    "        p = deepcopy(prompt)\n",
    "        p = p.format(conv=content)\n",
    "        response = client.responses.create(\n",
    "            model=\"gpt-4.1\",\n",
    "            input=p\n",
    "        )\n",
    "        response_out = response.output_text\n",
    "        analysis, pii, score = extract_sections(response_out)\n",
    "        result = {\n",
    "            \"file\": file_path,\n",
    "            \"analysis\": analysis,\n",
    "            \"pii\": pii,\n",
    "            \"score\": score\n",
    "        }\n",
    "        return result\n",
    "    except Exception as e:\n",
    "        print(e)\n",
    "        return None"
   ]
  },
  {
   "cell_type": "code",
   "execution_count": null,
   "id": "47ad30c1",
   "metadata": {},
   "outputs": [],
   "source": [
    "txt_paths = [os.path.join(conversation_folder, fname) for fname in txt_files]\n",
    "len(txt_paths)"
   ]
  },
  {
   "cell_type": "code",
   "execution_count": null,
   "id": "df09a735",
   "metadata": {},
   "outputs": [],
   "source": [
    "results = []\n",
    "\n",
    "with ThreadPoolExecutor(max_workers=10) as executor:\n",
    "    futures = [executor.submit(get_pii_score, pii_filter_prompt, file_path) for file_path in txt_paths]\n",
    "    for future in tqdm(as_completed(futures), total=len(futures), desc=\"Processing Files\"):\n",
    "        results.append(future.result())"
   ]
  },
  {
   "cell_type": "code",
   "execution_count": null,
   "id": "7c1ff4aa",
   "metadata": {},
   "outputs": [],
   "source": [
    "results_fil = [res for res in results if res is not None]\n",
    "results_df = pd.DataFrame(results_fil)"
   ]
  },
  {
   "cell_type": "code",
   "execution_count": null,
   "id": "d75234a6",
   "metadata": {},
   "outputs": [],
   "source": [
    "print(results_df['score'].value_counts())"
   ]
  },
  {
   "cell_type": "code",
   "execution_count": null,
   "id": "84bee5e8",
   "metadata": {},
   "outputs": [],
   "source": [
    "i = random.randint(0, len(results_df[results_df['score'] == 1]))\n",
    "i"
   ]
  },
  {
   "cell_type": "code",
   "execution_count": null,
   "id": "0308ed3f",
   "metadata": {},
   "outputs": [],
   "source": [
    "display(Markdown(results_df[results_df['score'] == 1].iloc[i][\"pii\"]))"
   ]
  },
  {
   "cell_type": "markdown",
   "id": "7af30a33",
   "metadata": {},
   "source": [
    "## Conclusion:\n",
    "- Most of the PII is masked in this conversation\n",
    "- Some PII is missed is mostly single names, diseases or when emails/phone no.s are spelled out. eg: \"our seven dash zero zero dash two seven one nine dash three one nine two zero\" spelled out\n",
    "- Rule based PII failed but stronger LLM based filtering was able to catch it."
   ]
  },
  {
   "cell_type": "markdown",
   "id": "eca8d145",
   "metadata": {},
   "source": [
    "# 3. Get Zero Shot Prompting Results\n",
    "\n",
    "Lets prompt some basic OpenAI LLMs and get the scores of agent and borrower sentiment"
   ]
  },
  {
   "cell_type": "code",
   "execution_count": null,
   "id": "851d0e60",
   "metadata": {},
   "outputs": [],
   "source": [
    "sentiment_zero_shot_prompt = \"\"\"\n",
    "# INSTRUCTIONS:\n",
    "\n",
    "You are an expert in sentiment analysis. Your task is to analyze the following conversation between an \"Agent\" (AI) and a \"Borrower\" (human). After your analysis, you will provide two outputs: one for the Agent Disposition and one for the Borrower Sentiment. \n",
    "\n",
    "The agent disposition refers to the call outcomes and **should** come from the following list:\n",
    "  - **Positive disposition types**: ['Payment Plan Modification', 'Promise - Settlement in payments', 'Promise - Payment plan', 'Promise - One time payment', 'Promise - Settlement in full', 'Promise - Payment in full']\n",
    "  - **Negative disposition types**: ['No Pay - Dispute', 'No Pay - Not right now', 'No Pay - Cancel payment plan', 'No Pay - Cant pay now', 'No Pay - Bankruptcy']\n",
    "\n",
    "The borrower sentiment scores should be on a scale from 0 to 1, where **0 represents the most negative sentiment** and **1 represents the most positive sentiment**. \n",
    "\n",
    "**Follow these steps for your analysis:** \n",
    "\n",
    "1.  **Read the entire conversation carefully** to understand the context and the emotional tone of both the Agent and the Borrower. \n",
    "2.  **Identify key phrases and sentences** that indicate the sentiment of each participant. Consider the choice of words, the tone, and any emotional cues. \n",
    "3.  **Analyze the outcome** of the conversation. Determine whether the call achieved its objective — for example, was the borrower successfully contacted, did they agree to the repayment terms, was a promise to pay made, or did the agent resolve the borrower’s query? Assess the borrower's tone, cooperation level, and any commitments made. If there was no resolution, note the reason (e.g., borrower was unavailable, refused, or needed more time).\n",
    "4.  **Analyze the sentiment of the Borrower** throughout the conversation. Note any expressions of frustration, satisfaction, confusion, or gratitude. \n",
    "5.  **Determine an overall outcome score for the call** based on your analysis. This should come from the list of possible outcomes provided to you above.\n",
    "6.  **Determine an overall sentiment score for the Borrower** based on your analysis. This score should reflect the Borrower's dominant sentiment throughout the entire interaction. \n",
    "7.  **Provide a brief justification** for each score, referencing specific parts of the conversation.  \n",
    "\n",
    "# Output Format:\n",
    "Provide your analysis in the following JSON format. Do not include any text or explanations outside of the JSON structure.\n",
    "```\n",
    "{ \n",
    "  \"conversation_analysis\": { \n",
    "    \"agent_sentiment\": { \n",
    "      \"analysis\": <detailed analysis of the input conversation to help determine a call outcome>\n",
    "      \"disposition\": <overall call outcome on the basis of the conversation as inferred by the agent>, \n",
    "    }, \n",
    "    \"borrower_sentiment\": { \n",
    "      \"analysis\": <detailed analysis of the borrower sentiment based on the input conversation to help determine a sentiment score>\n",
    "      \"score\": <a score between 0-1 indicating the borrower sentiment, 0 being the most negative and 1 being the most positive>,\n",
    "    } \n",
    "  } \n",
    "} \n",
    "```\n",
    "\n",
    "**IMPORTANT**: Follow this output format strictly without extra formatting to ensure consistency\n",
    "\n",
    "# Input:\n",
    "Conversation: @conv@\n",
    "\"\"\""
   ]
  },
  {
   "cell_type": "code",
   "execution_count": null,
   "id": "c5bbaba3",
   "metadata": {},
   "outputs": [],
   "source": [
    "def get_sentiment_scores(prompt, file_path):\n",
    "    try:\n",
    "        id = os.path.basename(file_path).split(\".\")[0]\n",
    "        ext = os.path.basename(file_path).split(\".\")[-1]\n",
    "\n",
    "        if ext == \"txt\":\n",
    "            with open(file_path, \"r\") as f:\n",
    "                content = f.read()\n",
    "        elif ext ==\"json\":\n",
    "            with open(file_path, 'r') as f:\n",
    "                content = json.load(f)\n",
    "                content = str(content)\n",
    "            \n",
    "        p = deepcopy(prompt)\n",
    "        p = p.replace(\"@conv@\", content)\n",
    "        response = client.responses.create(\n",
    "            model=\"gpt-4.1\",\n",
    "            input=p\n",
    "        )\n",
    "        response_out = response.output_text\n",
    "\n",
    "        # display(Markdown(response_out))\n",
    "\n",
    "        result = json.loads(response_out.strip(\"```\").strip(\"json\"))\n",
    "\n",
    "        return_val = {\n",
    "            \"_id\": id,\n",
    "            \"agent_analysis\": result[\"conversation_analysis\"][\"agent_sentiment\"][\"analysis\"],\n",
    "            \"agent_score\": result[\"conversation_analysis\"][\"agent_sentiment\"][\"disposition\"],\n",
    "            \"borrower_analysis\": result[\"conversation_analysis\"][\"borrower_sentiment\"][\"analysis\"],\n",
    "            \"borrower_score\": float(result[\"conversation_analysis\"][\"borrower_sentiment\"][\"score\"]),\n",
    "        }\n",
    "        return return_val\n",
    "    \n",
    "    except Exception as e:\n",
    "        print(e)\n",
    "        return None"
   ]
  },
  {
   "cell_type": "code",
   "execution_count": null,
   "id": "d32a37d4",
   "metadata": {},
   "outputs": [],
   "source": [
    "txt_paths = [os.path.join(conversation_folder, fname) for fname in txt_files]"
   ]
  },
  {
   "cell_type": "code",
   "execution_count": null,
   "id": "a4bb2f5c",
   "metadata": {},
   "outputs": [],
   "source": [
    "results_txt = []\n",
    "\n",
    "with ThreadPoolExecutor(max_workers=10) as executor:\n",
    "    futures = [executor.submit(get_sentiment_scores, sentiment_zero_shot_prompt, file_path) for file_path in txt_paths]\n",
    "    for future in tqdm(as_completed(futures), total=len(futures), desc=\"Processing Files\"):\n",
    "        results_txt.append(future.result())"
   ]
  },
  {
   "cell_type": "code",
   "execution_count": null,
   "id": "02955f8c",
   "metadata": {},
   "outputs": [],
   "source": [
    "results_txt_fil = [res for res in results_txt if res is not None]\n",
    "results_txt_df = pd.DataFrame(results_txt_fil)\n",
    "results_txt_df.info()"
   ]
  },
  {
   "cell_type": "code",
   "execution_count": null,
   "id": "8f7fd185",
   "metadata": {},
   "outputs": [],
   "source": [
    "results_txt_df.to_csv('/Users/sohammistri/Documents/Prodigal-Take-Home/sentiment-take-home/gpt_41_txt_file_zero_shot.csv', index=False)"
   ]
  },
  {
   "cell_type": "code",
   "execution_count": null,
   "id": "f2fd4d48",
   "metadata": {},
   "outputs": [],
   "source": [
    "merged_df = df_call_metadata.merge(results_txt_df, on=\"_id\", how=\"inner\")\n",
    "merged_df.head()"
   ]
  },
  {
   "cell_type": "code",
   "execution_count": null,
   "id": "b5e6f857",
   "metadata": {},
   "outputs": [],
   "source": [
    "merged_df['ground_truth_sentiment'] = (merged_df['type'] == 'positive').astype(int)"
   ]
  },
  {
   "cell_type": "markdown",
   "id": "966692fa",
   "metadata": {},
   "source": [
    "## Agent Score Analysis"
   ]
  },
  {
   "cell_type": "code",
   "execution_count": null,
   "id": "c6922c98",
   "metadata": {},
   "outputs": [],
   "source": [
    "from sklearn.metrics import accuracy_score, precision_score, recall_score, f1_score, confusion_matrix, classification_report\n",
    "\n",
    "# Ensure both columns are strings for comparison\n",
    "y_true_agent = merged_df['disposition'].astype(str)\n",
    "y_pred_agent = merged_df['agent_score'].astype(str)\n",
    "\n",
    "# Compute metrics\n",
    "acc_agent = accuracy_score(y_true_agent, y_pred_agent)\n",
    "prec_agent = precision_score(y_true_agent, y_pred_agent, average='weighted', zero_division=0)\n",
    "rec_agent = recall_score(y_true_agent, y_pred_agent, average='weighted', zero_division=0)\n",
    "f1_agent = f1_score(y_true_agent, y_pred_agent, average='weighted', zero_division=0)\n",
    "\n",
    "print(f\"Agent Disposition Prediction Stats:\")\n",
    "print(f\"Accuracy: {acc_agent:.4f}\")\n",
    "print(f\"Precision (weighted): {prec_agent:.4f}\")\n",
    "print(f\"Recall (weighted): {rec_agent:.4f}\")\n",
    "print(f\"F1 Score (weighted): {f1_agent:.4f}\")\n",
    "print(\"\\nClassification Report:\")\n",
    "print(classification_report(y_true_agent, y_pred_agent, zero_division=0))\n",
    "\n",
    "# Confusion matrix\n",
    "cm_agent = confusion_matrix(y_true_agent, y_pred_agent, labels=sorted(y_true_agent.unique()))\n",
    "plt.figure(figsize=(10, 8))\n",
    "sns.heatmap(cm_agent, annot=True, fmt='d', cmap='Blues',\n",
    "            xticklabels=sorted(y_true_agent.unique()),\n",
    "            yticklabels=sorted(y_true_agent.unique()))\n",
    "plt.xlabel('Predicted Disposition')\n",
    "plt.ylabel('True Disposition')\n",
    "plt.title('Confusion Matrix: Agent Disposition Prediction')\n",
    "plt.xticks(rotation=45, ha='right')\n",
    "plt.yticks(rotation=0)\n",
    "plt.tight_layout()\n",
    "plt.show()"
   ]
  },
  {
   "cell_type": "markdown",
   "id": "b2443c24",
   "metadata": {},
   "source": [
    "## Borrower Score Analysis"
   ]
  },
  {
   "cell_type": "code",
   "execution_count": null,
   "id": "21c27962",
   "metadata": {},
   "outputs": [],
   "source": [
    "# Calculate correlation coefficients between ground_truth_sentiment and borrower_score\n",
    "corr_borrower = merged_df['ground_truth_sentiment'].corr(merged_df['borrower_score'])\n",
    "\n",
    "print(f\"Correlation (ground_truth_sentiment, borrower_score): {corr_borrower:.4f}\")"
   ]
  },
  {
   "cell_type": "code",
   "execution_count": null,
   "id": "563cb29f",
   "metadata": {},
   "outputs": [],
   "source": [
    "# Group by 'type' and describe agent_score and borrower_score\n",
    "stats = merged_df.groupby('type')[['borrower_score']].describe()\n",
    "print(stats)\n",
    "\n",
    "# Plot distributions\n",
    "# Single histogram plot for borrower_score by type\n",
    "plt.figure(figsize=(8, 5))\n",
    "for sentiment_type in ['positive', 'negative']:\n",
    "    subset = merged_df[merged_df['type'] == sentiment_type]['borrower_score']\n",
    "    plt.hist(subset, bins=20, alpha=0.6, label=sentiment_type)\n",
    "plt.title('Distribution of Borrower Score by Type')\n",
    "plt.xlabel('Score')\n",
    "plt.ylabel('Count')\n",
    "plt.legend()\n",
    "plt.tight_layout()\n",
    "plt.show()\n",
    "\n",
    "# Boxplots for visual comparison\n",
    "plt.figure(figsize=(10, 5))\n",
    "merged_df.boxplot(column=['borrower_score'], by='type')\n",
    "plt.suptitle('')\n",
    "plt.title('Borrower Score by Type')\n",
    "plt.xlabel('Type')\n",
    "plt.ylabel('Score')\n",
    "plt.show()\n"
   ]
  },
  {
   "cell_type": "code",
   "execution_count": null,
   "id": "260b4bf3",
   "metadata": {},
   "outputs": [],
   "source": [
    "from sklearn.metrics import roc_curve, roc_auc_score\n",
    "\n",
    "# Prepare true labels and predicted scores from merged_df\n",
    "y_true = merged_df['ground_truth_sentiment']\n",
    "y_scores = merged_df['borrower_score']\n",
    "\n",
    "# Compute ROC curve and ROC-AUC\n",
    "fpr, tpr, thresholds = roc_curve(y_true, y_scores)\n",
    "roc_auc = roc_auc_score(y_true, y_scores)\n",
    "\n",
    "# Find optimal threshold (maximizing TPR - FPR)\n",
    "optimal_idx = np.argmax(tpr - fpr)\n",
    "optimal_threshold = thresholds[optimal_idx]\n",
    "\n",
    "plt.figure(figsize=(8, 6))\n",
    "plt.plot(fpr, tpr, label=f'ROC curve (AUC = {roc_auc:.2f})')\n",
    "plt.scatter(fpr[optimal_idx], tpr[optimal_idx], color='red', label=f'Optimal threshold = {optimal_threshold:.2f}')\n",
    "plt.plot([0, 1], [0, 1], 'k--', label='Random')\n",
    "plt.xlabel('False Positive Rate')\n",
    "plt.ylabel('True Positive Rate')\n",
    "plt.title('ROC Curve for Borrower Sentiment Score')\n",
    "plt.legend()\n",
    "plt.show()\n",
    "\n",
    "print(f\"Optimal threshold: {optimal_threshold:.2f}\")\n",
    "print(f\"ROC-AUC: {roc_auc:.2f}\")"
   ]
  },
  {
   "cell_type": "code",
   "execution_count": null,
   "id": "cd792ec1",
   "metadata": {},
   "outputs": [],
   "source": [
    "from sklearn.metrics import confusion_matrix\n",
    "\n",
    "# Use optimal_threshold from previous ROC analysis\n",
    "pred_optimal = (merged_df['borrower_score'] >= optimal_threshold).astype(int)\n",
    "true_labels = merged_df['ground_truth_sentiment']\n",
    "\n",
    "acc = accuracy_score(true_labels, pred_optimal)\n",
    "prec = precision_score(true_labels, pred_optimal, zero_division=0)\n",
    "rec = recall_score(true_labels, pred_optimal, zero_division=0)\n",
    "f1 = f1_score(true_labels, pred_optimal, zero_division=0)\n",
    "cm = confusion_matrix(true_labels, pred_optimal)\n",
    "\n",
    "print(f\"Optimal threshold: {optimal_threshold:.2f}\")\n",
    "print(f\"Accuracy: {acc:.4f}\")\n",
    "print(f\"Precision: {prec:.4f}\")\n",
    "print(f\"Recall: {rec:.4f}\")\n",
    "print(f\"F1 Score: {f1:.4f}\")\n",
    "print(\"Confusion Matrix:\")\n",
    "plt.figure(figsize=(6, 5))\n",
    "sns.heatmap(cm, annot=True, fmt='d', cmap='Blues', xticklabels=['Pred 0', 'Pred 1'], yticklabels=['True 0', 'True 1'])\n",
    "plt.title('Confusion Matrix')\n",
    "plt.xlabel('Predicted')\n",
    "plt.ylabel('Actual')\n",
    "plt.show()"
   ]
  },
  {
   "cell_type": "markdown",
   "id": "a59aad09",
   "metadata": {},
   "source": [
    "# 4. Get metrics for the FT model"
   ]
  },
  {
   "cell_type": "markdown",
   "id": "694320b1",
   "metadata": {},
   "source": [
    "## Agent"
   ]
  },
  {
   "cell_type": "code",
   "execution_count": 2,
   "id": "2153037d",
   "metadata": {},
   "outputs": [],
   "source": [
    "checkpoint_path = \"ckpts/modernbert-agent/checkpoint-1000/\"\n",
    "\n",
    "# Load tokenizer and model\n",
    "tokenizer = AutoTokenizer.from_pretrained(checkpoint_path)\n",
    "model = AutoModelForSequenceClassification.from_pretrained(checkpoint_path)"
   ]
  },
  {
   "cell_type": "code",
   "execution_count": 3,
   "id": "a0b148d8",
   "metadata": {},
   "outputs": [],
   "source": [
    "train_path = '/root/Prodigal-Take-Home/sentiment-take-home/sentiment-take-home/train_df.csv'\n",
    "val_path = '/root/Prodigal-Take-Home/sentiment-take-home/sentiment-take-home/val_df.csv'\n",
    "test_path = '/root/Prodigal-Take-Home/sentiment-take-home/sentiment-take-home/test_df.csv'\n",
    "\n",
    "conversations_path = '/root/Prodigal-Take-Home/sentiment-take-home/sentiment-take-home/conversations'\n",
    "\n",
    "train_df = create_dataset(train_path, conversations_path, label2id_agent, \"disposition\")\n",
    "val_df = create_dataset(val_path, conversations_path, label2id_agent, \"disposition\")\n",
    "test_df = create_dataset(test_path, conversations_path, label2id_agent, \"disposition\")\n"
   ]
  },
  {
   "cell_type": "code",
   "execution_count": 4,
   "id": "718e0379",
   "metadata": {},
   "outputs": [
    {
     "data": {
      "application/vnd.jupyter.widget-view+json": {
       "model_id": "be1f56bc6aff470e858ad028654afdbb",
       "version_major": 2,
       "version_minor": 0
      },
      "text/plain": [
       "Map:   0%|          | 0/1600 [00:00<?, ? examples/s]"
      ]
     },
     "metadata": {},
     "output_type": "display_data"
    },
    {
     "data": {
      "application/vnd.jupyter.widget-view+json": {
       "model_id": "cf1e09de90c74771824bb97a7192cb45",
       "version_major": 2,
       "version_minor": 0
      },
      "text/plain": [
       "Map:   0%|          | 0/200 [00:00<?, ? examples/s]"
      ]
     },
     "metadata": {},
     "output_type": "display_data"
    },
    {
     "data": {
      "application/vnd.jupyter.widget-view+json": {
       "model_id": "4d8408cc83d546d7bf07ff9f1b389028",
       "version_major": 2,
       "version_minor": 0
      },
      "text/plain": [
       "Map:   0%|          | 0/200 [00:00<?, ? examples/s]"
      ]
     },
     "metadata": {},
     "output_type": "display_data"
    }
   ],
   "source": [
    "def tokenize_function(examples):\n",
    "    return tokenizer(examples[\"text\"], padding=\"max_length\", truncation=True)\n",
    "    \n",
    "train_df = train_df.sample(frac=1, random_state=42).reset_index(drop=True)\n",
    "val_df = val_df.sample(frac=1, random_state=42).reset_index(drop=True)\n",
    "test_df = test_df.sample(frac=1, random_state=42).reset_index(drop=True)\n",
    "\n",
    "train_dataset = Dataset.from_pandas(train_df).map(tokenize_function, batched=True).remove_columns(['text'])\n",
    "val_dataset = Dataset.from_pandas(val_df).map(tokenize_function, batched=True).remove_columns(['text'])\n",
    "test_dataset = Dataset.from_pandas(test_df).map(tokenize_function, batched=True).remove_columns(['text'])"
   ]
  },
  {
   "cell_type": "code",
   "execution_count": 5,
   "id": "a11bb212",
   "metadata": {},
   "outputs": [
    {
     "data": {
      "text/plain": [
       "11"
      ]
     },
     "execution_count": 5,
     "metadata": {},
     "output_type": "execute_result"
    }
   ],
   "source": [
    "model.config.num_labels"
   ]
  },
  {
   "cell_type": "code",
   "execution_count": 6,
   "id": "b8568f29",
   "metadata": {},
   "outputs": [
    {
     "data": {
      "text/plain": [
       "ModernBertForSequenceClassification(\n",
       "  (model): ModernBertModel(\n",
       "    (embeddings): ModernBertEmbeddings(\n",
       "      (tok_embeddings): Embedding(50368, 768, padding_idx=50283)\n",
       "      (norm): LayerNorm((768,), eps=1e-05, elementwise_affine=True)\n",
       "      (drop): Dropout(p=0.0, inplace=False)\n",
       "    )\n",
       "    (layers): ModuleList(\n",
       "      (0): ModernBertEncoderLayer(\n",
       "        (attn_norm): Identity()\n",
       "        (attn): ModernBertAttention(\n",
       "          (Wqkv): Linear(in_features=768, out_features=2304, bias=False)\n",
       "          (rotary_emb): ModernBertRotaryEmbedding()\n",
       "          (Wo): Linear(in_features=768, out_features=768, bias=False)\n",
       "          (out_drop): Identity()\n",
       "        )\n",
       "        (mlp_norm): LayerNorm((768,), eps=1e-05, elementwise_affine=True)\n",
       "        (mlp): ModernBertMLP(\n",
       "          (Wi): Linear(in_features=768, out_features=2304, bias=False)\n",
       "          (act): GELUActivation()\n",
       "          (drop): Dropout(p=0.0, inplace=False)\n",
       "          (Wo): Linear(in_features=1152, out_features=768, bias=False)\n",
       "        )\n",
       "      )\n",
       "      (1-21): 21 x ModernBertEncoderLayer(\n",
       "        (attn_norm): LayerNorm((768,), eps=1e-05, elementwise_affine=True)\n",
       "        (attn): ModernBertAttention(\n",
       "          (Wqkv): Linear(in_features=768, out_features=2304, bias=False)\n",
       "          (rotary_emb): ModernBertRotaryEmbedding()\n",
       "          (Wo): Linear(in_features=768, out_features=768, bias=False)\n",
       "          (out_drop): Identity()\n",
       "        )\n",
       "        (mlp_norm): LayerNorm((768,), eps=1e-05, elementwise_affine=True)\n",
       "        (mlp): ModernBertMLP(\n",
       "          (Wi): Linear(in_features=768, out_features=2304, bias=False)\n",
       "          (act): GELUActivation()\n",
       "          (drop): Dropout(p=0.0, inplace=False)\n",
       "          (Wo): Linear(in_features=1152, out_features=768, bias=False)\n",
       "        )\n",
       "      )\n",
       "    )\n",
       "    (final_norm): LayerNorm((768,), eps=1e-05, elementwise_affine=True)\n",
       "  )\n",
       "  (head): ModernBertPredictionHead(\n",
       "    (dense): Linear(in_features=768, out_features=768, bias=False)\n",
       "    (act): GELUActivation()\n",
       "    (norm): LayerNorm((768,), eps=1e-05, elementwise_affine=True)\n",
       "  )\n",
       "  (drop): Dropout(p=0.0, inplace=False)\n",
       "  (classifier): Linear(in_features=768, out_features=11, bias=True)\n",
       ")"
      ]
     },
     "execution_count": 6,
     "metadata": {},
     "output_type": "execute_result"
    }
   ],
   "source": [
    "model.eval()\n",
    "\n",
    "# Move to GPU if available\n",
    "device = torch.device(\"cuda\" if torch.cuda.is_available() else \"cpu\")\n",
    "model.to(device)"
   ]
  },
  {
   "cell_type": "code",
   "execution_count": null,
   "id": "3cc987f1",
   "metadata": {},
   "outputs": [
    {
     "name": "stderr",
     "output_type": "stream",
     "text": [
      "100%|██████████| 4/4 [00:52<00:00, 13.10s/it]"
     ]
    },
    {
     "name": "stdout",
     "output_type": "stream",
     "text": [
      "\n",
      "📊 Classification Report for Validation:\n",
      "              precision    recall  f1-score   support\n",
      "\n",
      "           0     0.4857    0.7727    0.5965        22\n",
      "           1     0.6000    0.6923    0.6429        13\n",
      "           2     0.7857    0.6111    0.6875        18\n",
      "           3     0.5758    0.5588    0.5672        34\n",
      "           4     0.8864    0.9070    0.8966        43\n",
      "           5     0.5500    0.6667    0.6027        33\n",
      "           6     1.0000    0.8000    0.8889         5\n",
      "           7     0.6667    0.5000    0.5714        12\n",
      "           8     0.0000    0.0000    0.0000         9\n",
      "           9     0.8000    0.3636    0.5000        11\n",
      "\n",
      "    accuracy                         0.6550       200\n",
      "   macro avg     0.6350    0.5872    0.5954       200\n",
      "weighted avg     0.6513    0.6550    0.6419       200\n",
      "\n"
     ]
    },
    {
     "name": "stderr",
     "output_type": "stream",
     "text": [
      "\n"
     ]
    },
    {
     "data": {
      "image/png": "[encoded data removed]",
      "text/plain": [
       "<Figure size 800x600 with 2 Axes>"
      ]
     },
     "metadata": {},
     "output_type": "display_data"
    },
    {
     "name": "stderr",
     "output_type": "stream",
     "text": [
      "100%|██████████| 4/4 [00:51<00:00, 12.98s/it]"
     ]
    },
    {
     "name": "stdout",
     "output_type": "stream",
     "text": [
      "\n",
      "📊 Classification Report for Test:\n",
      "              precision    recall  f1-score   support\n",
      "\n",
      "           0     0.6207    0.7826    0.6923        23\n",
      "           1     0.5714    0.7273    0.6400        11\n",
      "           2     0.8400    0.7778    0.8077        27\n",
      "           3     0.4800    0.5217    0.5000        23\n",
      "           4     0.9167    0.9167    0.9167        48\n",
      "           5     0.6667    0.7273    0.6957        33\n",
      "           6     1.0000    1.0000    1.0000         1\n",
      "           7     0.8333    0.4167    0.5556        12\n",
      "           8     0.5000    0.1250    0.2000         8\n",
      "           9     0.5714    0.6154    0.5926        13\n",
      "          10     0.0000    0.0000    0.0000         1\n",
      "\n",
      "    accuracy                         0.7100       200\n",
      "   macro avg     0.6364    0.6009    0.6000       200\n",
      "weighted avg     0.7136    0.7100    0.7010       200\n",
      "\n"
     ]
    },
    {
     "name": "stderr",
     "output_type": "stream",
     "text": [
      "\n",
      "/root/Prodigal-Take-Home/.venv/lib/python3.11/site-packages/sklearn/metrics/_classification.py:1531: UndefinedMetricWarning: Precision is ill-defined and being set to 0.0 in labels with no predicted samples. Use `zero_division` parameter to control this behavior.\n",
      "  _warn_prf(average, modifier, f\"{metric.capitalize()} is\", len(result))\n",
      "/root/Prodigal-Take-Home/.venv/lib/python3.11/site-packages/sklearn/metrics/_classification.py:1531: UndefinedMetricWarning: Precision is ill-defined and being set to 0.0 in labels with no predicted samples. Use `zero_division` parameter to control this behavior.\n",
      "  _warn_prf(average, modifier, f\"{metric.capitalize()} is\", len(result))\n",
      "/root/Prodigal-Take-Home/.venv/lib/python3.11/site-packages/sklearn/metrics/_classification.py:1531: UndefinedMetricWarning: Precision is ill-defined and being set to 0.0 in labels with no predicted samples. Use `zero_division` parameter to control this behavior.\n",
      "  _warn_prf(average, modifier, f\"{metric.capitalize()} is\", len(result))\n"
     ]
    },
    {
     "data": {
      "image/png": "[encoded data removed]",
      "text/plain": [
       "<Figure size 800x600 with 2 Axes>"
      ]
     },
     "metadata": {},
     "output_type": "display_data"
    }
   ],
   "source": [
    "# Inference function\n",
    "def run_inference(dataset, name=\"dataset\"):\n",
    "    all_preds = []\n",
    "    all_labels = []\n",
    "\n",
    "    dataset.set_format(type=\"torch\", columns=[\"input_ids\", \"attention_mask\", \"labels\"])\n",
    "    loader = DataLoader(dataset, batch_size=64)\n",
    "\n",
    "    for batch in tqdm(loader):\n",
    "        input_ids = batch[\"input_ids\"].to(device)\n",
    "        attention_mask = batch[\"attention_mask\"].to(device)\n",
    "        labels = batch[\"labels\"].to(device)\n",
    "\n",
    "        with torch.no_grad():\n",
    "            outputs = model(input_ids=input_ids, attention_mask=attention_mask)\n",
    "            logits = outputs.logits\n",
    "            preds = torch.argmax(logits, dim=-1)\n",
    "\n",
    "        all_preds.extend(preds.cpu().numpy())\n",
    "        all_labels.extend(labels.cpu().numpy())\n",
    "\n",
    "    print(f\"\\n📊 Classification Report for {name}:\")\n",
    "    print(classification_report(all_labels, all_preds, digits=4))\n",
    "\n",
    "    # Plot confusion matrix\n",
    "    cm = confusion_matrix(all_labels, all_preds)\n",
    "    plt.figure(figsize=(8, 6))\n",
    "    sns.heatmap(cm, annot=True, fmt='d', cmap=\"Blues\")\n",
    "    plt.title(f\"Confusion Matrix - {name}\")\n",
    "    plt.xlabel(\"Predicted\")\n",
    "    plt.ylabel(\"Actual\")\n",
    "    plt.tight_layout()\n",
    "    plt.show()\n",
    "\n",
    "    return all_labels, all_preds\n",
    "\n",
    "# Run on all datasets\n",
    "val_labels, val_preds = run_inference(val_dataset, \"Validation\")\n",
    "test_labels, test_preds = run_inference(test_dataset, \"Test\")"
   ]
  },
  {
   "cell_type": "code",
   "execution_count": 8,
   "id": "ec358437",
   "metadata": {},
   "outputs": [
    {
     "name": "stderr",
     "output_type": "stream",
     "text": [
      "100%|██████████| 25/25 [06:54<00:00, 16.60s/it]"
     ]
    },
    {
     "name": "stdout",
     "output_type": "stream",
     "text": [
      "\n",
      "📊 Classification Report for Train:\n",
      "              precision    recall  f1-score   support\n",
      "\n",
      "           0     0.7866    0.8910    0.8356       211\n",
      "           1     0.8667    0.9353    0.8997       139\n",
      "           2     0.9503    0.8547    0.9000       179\n",
      "           3     0.8379    0.8870    0.8618       239\n",
      "           4     0.9632    0.9770    0.9700       348\n",
      "           5     0.8876    0.9595    0.9222       247\n",
      "           6     0.9167    0.9167    0.9167        24\n",
      "           7     0.9310    0.6750    0.7826        80\n",
      "           8     0.7391    0.3696    0.4928        46\n",
      "           9     0.8889    0.8312    0.8591        77\n",
      "          10     0.0000    0.0000    0.0000        10\n",
      "\n",
      "    accuracy                         0.8856      1600\n",
      "   macro avg     0.7971    0.7543    0.7673      1600\n",
      "weighted avg     0.8814    0.8856    0.8795      1600\n",
      "\n"
     ]
    },
    {
     "name": "stderr",
     "output_type": "stream",
     "text": [
      "\n",
      "/root/Prodigal-Take-Home/.venv/lib/python3.11/site-packages/sklearn/metrics/_classification.py:1531: UndefinedMetricWarning: Precision is ill-defined and being set to 0.0 in labels with no predicted samples. Use `zero_division` parameter to control this behavior.\n",
      "  _warn_prf(average, modifier, f\"{metric.capitalize()} is\", len(result))\n",
      "/root/Prodigal-Take-Home/.venv/lib/python3.11/site-packages/sklearn/metrics/_classification.py:1531: UndefinedMetricWarning: Precision is ill-defined and being set to 0.0 in labels with no predicted samples. Use `zero_division` parameter to control this behavior.\n",
      "  _warn_prf(average, modifier, f\"{metric.capitalize()} is\", len(result))\n",
      "/root/Prodigal-Take-Home/.venv/lib/python3.11/site-packages/sklearn/metrics/_classification.py:1531: UndefinedMetricWarning: Precision is ill-defined and being set to 0.0 in labels with no predicted samples. Use `zero_division` parameter to control this behavior.\n",
      "  _warn_prf(average, modifier, f\"{metric.capitalize()} is\", len(result))\n"
     ]
    },
    {
     "data": {
      "image/png": "[encoded data removed]",
      "text/plain": [
       "<Figure size 800x600 with 2 Axes>"
      ]
     },
     "metadata": {},
     "output_type": "display_data"
    }
   ],
   "source": [
    "train_labels, train_preds = run_inference(train_dataset, \"Train\")"
   ]
  },
  {
   "cell_type": "markdown",
   "id": "c18eef89",
   "metadata": {},
   "source": [
    "## Borrower"
   ]
  },
  {
   "cell_type": "code",
   "execution_count": 2,
   "id": "55622a4c",
   "metadata": {},
   "outputs": [],
   "source": [
    "checkpoint_path = \"ckpts/modernbert-borrower/checkpoint-800/\"\n",
    "\n",
    "# Load tokenizer and model\n",
    "tokenizer = AutoTokenizer.from_pretrained(checkpoint_path)\n",
    "model = AutoModelForSequenceClassification.from_pretrained(checkpoint_path)"
   ]
  },
  {
   "cell_type": "code",
   "execution_count": 5,
   "id": "51ffd180",
   "metadata": {},
   "outputs": [],
   "source": [
    "train_path = '/root/Prodigal-Take-Home/sentiment-take-home/sentiment-take-home/train_df.csv'\n",
    "val_path = '/root/Prodigal-Take-Home/sentiment-take-home/sentiment-take-home/val_df.csv'\n",
    "test_path = '/root/Prodigal-Take-Home/sentiment-take-home/sentiment-take-home/test_df.csv'\n",
    "\n",
    "conversations_path = '/root/Prodigal-Take-Home/sentiment-take-home/sentiment-take-home/conversations'\n",
    "\n",
    "train_df = create_dataset(train_path, conversations_path, label2id_borrower, \"type\")\n",
    "val_df = create_dataset(val_path, conversations_path, label2id_borrower, \"type\")\n",
    "test_df = create_dataset(test_path, conversations_path, label2id_borrower, \"type\")\n"
   ]
  },
  {
   "cell_type": "code",
   "execution_count": 6,
   "id": "3ac65616",
   "metadata": {},
   "outputs": [
    {
     "data": {
      "application/vnd.jupyter.widget-view+json": {
       "model_id": "4e207da3afbf43a1b4d969a37a2c9415",
       "version_major": 2,
       "version_minor": 0
      },
      "text/plain": [
       "Map:   0%|          | 0/1600 [00:00<?, ? examples/s]"
      ]
     },
     "metadata": {},
     "output_type": "display_data"
    },
    {
     "data": {
      "application/vnd.jupyter.widget-view+json": {
       "model_id": "5213014cff7847ca9b1ef480dd1a391c",
       "version_major": 2,
       "version_minor": 0
      },
      "text/plain": [
       "Map:   0%|          | 0/200 [00:00<?, ? examples/s]"
      ]
     },
     "metadata": {},
     "output_type": "display_data"
    },
    {
     "data": {
      "application/vnd.jupyter.widget-view+json": {
       "model_id": "4b701181184c4baab60730e49ea266ed",
       "version_major": 2,
       "version_minor": 0
      },
      "text/plain": [
       "Map:   0%|          | 0/200 [00:00<?, ? examples/s]"
      ]
     },
     "metadata": {},
     "output_type": "display_data"
    }
   ],
   "source": [
    "def tokenize_function(examples):\n",
    "    return tokenizer(examples[\"text\"], padding=\"max_length\", truncation=True)\n",
    "    \n",
    "train_df = train_df.sample(frac=1, random_state=42).reset_index(drop=True)\n",
    "val_df = val_df.sample(frac=1, random_state=42).reset_index(drop=True)\n",
    "test_df = test_df.sample(frac=1, random_state=42).reset_index(drop=True)\n",
    "\n",
    "train_dataset = Dataset.from_pandas(train_df).map(tokenize_function, batched=True).remove_columns(['text'])\n",
    "val_dataset = Dataset.from_pandas(val_df).map(tokenize_function, batched=True).remove_columns(['text'])\n",
    "test_dataset = Dataset.from_pandas(test_df).map(tokenize_function, batched=True).remove_columns(['text'])"
   ]
  },
  {
   "cell_type": "code",
   "execution_count": 7,
   "id": "fd9ceecc",
   "metadata": {},
   "outputs": [
    {
     "data": {
      "text/plain": [
       "2"
      ]
     },
     "execution_count": 7,
     "metadata": {},
     "output_type": "execute_result"
    }
   ],
   "source": [
    "model.config.num_labels"
   ]
  },
  {
   "cell_type": "code",
   "execution_count": 8,
   "id": "43290091",
   "metadata": {},
   "outputs": [
    {
     "data": {
      "text/plain": [
       "ModernBertForSequenceClassification(\n",
       "  (model): ModernBertModel(\n",
       "    (embeddings): ModernBertEmbeddings(\n",
       "      (tok_embeddings): Embedding(50368, 768, padding_idx=50283)\n",
       "      (norm): LayerNorm((768,), eps=1e-05, elementwise_affine=True)\n",
       "      (drop): Dropout(p=0.0, inplace=False)\n",
       "    )\n",
       "    (layers): ModuleList(\n",
       "      (0): ModernBertEncoderLayer(\n",
       "        (attn_norm): Identity()\n",
       "        (attn): ModernBertAttention(\n",
       "          (Wqkv): Linear(in_features=768, out_features=2304, bias=False)\n",
       "          (rotary_emb): ModernBertRotaryEmbedding()\n",
       "          (Wo): Linear(in_features=768, out_features=768, bias=False)\n",
       "          (out_drop): Identity()\n",
       "        )\n",
       "        (mlp_norm): LayerNorm((768,), eps=1e-05, elementwise_affine=True)\n",
       "        (mlp): ModernBertMLP(\n",
       "          (Wi): Linear(in_features=768, out_features=2304, bias=False)\n",
       "          (act): GELUActivation()\n",
       "          (drop): Dropout(p=0.0, inplace=False)\n",
       "          (Wo): Linear(in_features=1152, out_features=768, bias=False)\n",
       "        )\n",
       "      )\n",
       "      (1-21): 21 x ModernBertEncoderLayer(\n",
       "        (attn_norm): LayerNorm((768,), eps=1e-05, elementwise_affine=True)\n",
       "        (attn): ModernBertAttention(\n",
       "          (Wqkv): Linear(in_features=768, out_features=2304, bias=False)\n",
       "          (rotary_emb): ModernBertRotaryEmbedding()\n",
       "          (Wo): Linear(in_features=768, out_features=768, bias=False)\n",
       "          (out_drop): Identity()\n",
       "        )\n",
       "        (mlp_norm): LayerNorm((768,), eps=1e-05, elementwise_affine=True)\n",
       "        (mlp): ModernBertMLP(\n",
       "          (Wi): Linear(in_features=768, out_features=2304, bias=False)\n",
       "          (act): GELUActivation()\n",
       "          (drop): Dropout(p=0.0, inplace=False)\n",
       "          (Wo): Linear(in_features=1152, out_features=768, bias=False)\n",
       "        )\n",
       "      )\n",
       "    )\n",
       "    (final_norm): LayerNorm((768,), eps=1e-05, elementwise_affine=True)\n",
       "  )\n",
       "  (head): ModernBertPredictionHead(\n",
       "    (dense): Linear(in_features=768, out_features=768, bias=False)\n",
       "    (act): GELUActivation()\n",
       "    (norm): LayerNorm((768,), eps=1e-05, elementwise_affine=True)\n",
       "  )\n",
       "  (drop): Dropout(p=0.0, inplace=False)\n",
       "  (classifier): Linear(in_features=768, out_features=2, bias=True)\n",
       ")"
      ]
     },
     "execution_count": 8,
     "metadata": {},
     "output_type": "execute_result"
    }
   ],
   "source": [
    "model.eval()\n",
    "\n",
    "# Move to GPU if available\n",
    "device = torch.device(\"cuda\" if torch.cuda.is_available() else \"cpu\")\n",
    "model.to(device)"
   ]
  },
  {
   "cell_type": "code",
   "execution_count": 9,
   "id": "f8c84cc3",
   "metadata": {},
   "outputs": [
    {
     "name": "stderr",
     "output_type": "stream",
     "text": [
      "100%|██████████| 4/4 [00:52<00:00, 13.19s/it]"
     ]
    },
    {
     "name": "stdout",
     "output_type": "stream",
     "text": [
      "\n",
      "📊 Classification Report for Validation:\n",
      "              precision    recall  f1-score   support\n",
      "\n",
      "           0     0.8641    0.8900    0.8768       100\n",
      "           1     0.8866    0.8600    0.8731       100\n",
      "\n",
      "    accuracy                         0.8750       200\n",
      "   macro avg     0.8753    0.8750    0.8750       200\n",
      "weighted avg     0.8753    0.8750    0.8750       200\n",
      "\n"
     ]
    },
    {
     "name": "stderr",
     "output_type": "stream",
     "text": [
      "\n"
     ]
    },
    {
     "data": {
      "image/png": "[encoded data removed]",
      "text/plain": [
       "<Figure size 800x600 with 2 Axes>"
      ]
     },
     "metadata": {},
     "output_type": "display_data"
    },
    {
     "name": "stderr",
     "output_type": "stream",
     "text": [
      "100%|██████████| 4/4 [00:51<00:00, 12.95s/it]"
     ]
    },
    {
     "name": "stdout",
     "output_type": "stream",
     "text": [
      "\n",
      "📊 Classification Report for Test:\n",
      "              precision    recall  f1-score   support\n",
      "\n",
      "           0     0.8922    0.9100    0.9010       100\n",
      "           1     0.9082    0.8900    0.8990       100\n",
      "\n",
      "    accuracy                         0.9000       200\n",
      "   macro avg     0.9002    0.9000    0.9000       200\n",
      "weighted avg     0.9002    0.9000    0.9000       200\n",
      "\n"
     ]
    },
    {
     "name": "stderr",
     "output_type": "stream",
     "text": [
      "\n"
     ]
    },
    {
     "data": {
      "image/png": "[encoded data removed]",
      "text/plain": [
       "<Figure size 800x600 with 2 Axes>"
      ]
     },
     "metadata": {},
     "output_type": "display_data"
    }
   ],
   "source": [
    "# Inference function\n",
    "def run_inference(dataset, name=\"dataset\"):\n",
    "    all_preds = []\n",
    "    all_labels = []\n",
    "\n",
    "    dataset.set_format(type=\"torch\", columns=[\"input_ids\", \"attention_mask\", \"labels\"])\n",
    "    loader = DataLoader(dataset, batch_size=64)\n",
    "\n",
    "    for batch in tqdm(loader):\n",
    "        input_ids = batch[\"input_ids\"].to(device)\n",
    "        attention_mask = batch[\"attention_mask\"].to(device)\n",
    "        labels = batch[\"labels\"].to(device)\n",
    "\n",
    "        with torch.no_grad():\n",
    "            outputs = model(input_ids=input_ids, attention_mask=attention_mask)\n",
    "            logits = outputs.logits\n",
    "            preds = torch.argmax(logits, dim=-1)\n",
    "\n",
    "        all_preds.extend(preds.cpu().numpy())\n",
    "        all_labels.extend(labels.cpu().numpy())\n",
    "\n",
    "    print(f\"\\n📊 Classification Report for {name}:\")\n",
    "    print(classification_report(all_labels, all_preds, digits=4))\n",
    "\n",
    "    # Plot confusion matrix\n",
    "    cm = confusion_matrix(all_labels, all_preds)\n",
    "    plt.figure(figsize=(8, 6))\n",
    "    sns.heatmap(cm, annot=True, fmt='d', cmap=\"Blues\")\n",
    "    plt.title(f\"Confusion Matrix - {name}\")\n",
    "    plt.xlabel(\"Predicted\")\n",
    "    plt.ylabel(\"Actual\")\n",
    "    plt.tight_layout()\n",
    "    plt.show()\n",
    "\n",
    "    return all_labels, all_preds\n",
    "\n",
    "# Run on all datasets\n",
    "val_labels, val_preds = run_inference(val_dataset, \"Validation\")\n",
    "test_labels, test_preds = run_inference(test_dataset, \"Test\")"
   ]
  },
  {
   "cell_type": "code",
   "execution_count": 10,
   "id": "596e8511",
   "metadata": {},
   "outputs": [
    {
     "name": "stderr",
     "output_type": "stream",
     "text": [
      "100%|██████████| 25/25 [06:53<00:00, 16.52s/it]"
     ]
    },
    {
     "name": "stdout",
     "output_type": "stream",
     "text": [
      "\n",
      "📊 Classification Report for Train:\n",
      "              precision    recall  f1-score   support\n",
      "\n",
      "           0     0.8996    0.9300    0.9146       800\n",
      "           1     0.9276    0.8962    0.9116       800\n",
      "\n",
      "    accuracy                         0.9131      1600\n",
      "   macro avg     0.9136    0.9131    0.9131      1600\n",
      "weighted avg     0.9136    0.9131    0.9131      1600\n",
      "\n"
     ]
    },
    {
     "name": "stderr",
     "output_type": "stream",
     "text": [
      "\n"
     ]
    },
    {
     "data": {
      "image/png": "[encoded data removed]",
      "text/plain": [
       "<Figure size 800x600 with 2 Axes>"
      ]
     },
     "metadata": {},
     "output_type": "display_data"
    }
   ],
   "source": [
    "train_labels, train_preds = run_inference(train_dataset, \"Train\")"
   ]
  },
  {
   "cell_type": "code",
   "execution_count": null,
   "id": "28eded7e",
   "metadata": {},
   "outputs": [],
   "source": []
  }
 ],
 "metadata": {
  "kernelspec": {
   "display_name": "Prodigal-Take-Home",
   "language": "python",
   "name": "python3"
  },
  "language_info": {
   "codemirror_mode": {
    "name": "ipython",
    "version": 3
   },
   "file_extension": ".py",
   "mimetype": "text/x-python",
   "name": "python",
   "nbconvert_exporter": "python",
   "pygments_lexer": "ipython3",
   "version": "3.11.10"
  }
 },
 "nbformat": 4,
 "nbformat_minor": 5
}
